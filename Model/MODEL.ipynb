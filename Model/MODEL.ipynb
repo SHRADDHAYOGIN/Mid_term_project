{
 "cells": [
  {
   "cell_type": "code",
   "execution_count": 1,
   "id": "fc70aee8",
   "metadata": {
    "scrolled": true
   },
   "outputs": [],
   "source": [
    "import pandas as pd"
   ]
  },
  {
   "cell_type": "code",
   "execution_count": 2,
   "id": "049a927e",
   "metadata": {},
   "outputs": [],
   "source": [
    "Data = 'C:/Users/patel/lighthouse-lab-allprojects/Mid-Project-Data/Model_Final_1.csv'"
   ]
  },
  {
   "cell_type": "code",
   "execution_count": 3,
   "id": "9e6d9abd",
   "metadata": {},
   "outputs": [],
   "source": [
    "df = pd.read_csv(Data, low_memory=False)"
   ]
  },
  {
   "cell_type": "code",
   "execution_count": 4,
   "id": "6ab0f4cb",
   "metadata": {},
   "outputs": [
    {
     "data": {
      "text/plain": [
       "Index(['arr_delay', 'crs_arr_time', 'fl_date_day_of_month', 'day_of_week',\n",
       "       'origin_city_avg_dep_delay', 'origin_day_week_avg_dep_delay',\n",
       "       'dest_day_week_avg_arr_delay', 'dest_city_avg_arr_delay',\n",
       "       'op_unique_carrier_day_week_avg_arr_delay',\n",
       "       'distance_group_airtime_avg', 'distance_group__day_passenger_avg',\n",
       "       'distance_group_day_payload_avg'],\n",
       "      dtype='object')"
      ]
     },
     "execution_count": 4,
     "metadata": {},
     "output_type": "execute_result"
    }
   ],
   "source": [
    "df.columns"
   ]
  },
  {
   "cell_type": "code",
   "execution_count": 5,
   "id": "7d56a649",
   "metadata": {},
   "outputs": [
    {
     "name": "stdout",
     "output_type": "stream",
     "text": [
      "<class 'pandas.core.frame.DataFrame'>\n",
      "RangeIndex: 2974084 entries, 0 to 2974083\n",
      "Data columns (total 12 columns):\n",
      " #   Column                                    Dtype  \n",
      "---  ------                                    -----  \n",
      " 0   arr_delay                                 float64\n",
      " 1   crs_arr_time                              int64  \n",
      " 2   fl_date_day_of_month                      int64  \n",
      " 3   day_of_week                               object \n",
      " 4   origin_city_avg_dep_delay                 float64\n",
      " 5   origin_day_week_avg_dep_delay             float64\n",
      " 6   dest_day_week_avg_arr_delay               float64\n",
      " 7   dest_city_avg_arr_delay                   float64\n",
      " 8   op_unique_carrier_day_week_avg_arr_delay  float64\n",
      " 9   distance_group_airtime_avg                float64\n",
      " 10  distance_group__day_passenger_avg         float64\n",
      " 11  distance_group_day_payload_avg            float64\n",
      "dtypes: float64(9), int64(2), object(1)\n",
      "memory usage: 272.3+ MB\n"
     ]
    }
   ],
   "source": [
    "df.info()"
   ]
  },
  {
   "cell_type": "code",
   "execution_count": 6,
   "id": "0538ec7f",
   "metadata": {},
   "outputs": [],
   "source": [
    "categories = df.dtypes[df.dtypes == 'object'].index.tolist()\n",
    "df_dummy = pd.get_dummies(df[categories])\n",
    "df = pd.concat([df, df_dummy], axis=1)\n",
    "df = df.drop(columns=categories)"
   ]
  },
  {
   "cell_type": "code",
   "execution_count": 7,
   "id": "996218b7",
   "metadata": {},
   "outputs": [
    {
     "name": "stdout",
     "output_type": "stream",
     "text": [
      "<class 'pandas.core.frame.DataFrame'>\n",
      "RangeIndex: 2974084 entries, 0 to 2974083\n",
      "Data columns (total 18 columns):\n",
      " #   Column                                    Dtype  \n",
      "---  ------                                    -----  \n",
      " 0   arr_delay                                 float64\n",
      " 1   crs_arr_time                              int64  \n",
      " 2   fl_date_day_of_month                      int64  \n",
      " 3   origin_city_avg_dep_delay                 float64\n",
      " 4   origin_day_week_avg_dep_delay             float64\n",
      " 5   dest_day_week_avg_arr_delay               float64\n",
      " 6   dest_city_avg_arr_delay                   float64\n",
      " 7   op_unique_carrier_day_week_avg_arr_delay  float64\n",
      " 8   distance_group_airtime_avg                float64\n",
      " 9   distance_group__day_passenger_avg         float64\n",
      " 10  distance_group_day_payload_avg            float64\n",
      " 11  day_of_week_Friday                        uint8  \n",
      " 12  day_of_week_Monday                        uint8  \n",
      " 13  day_of_week_Saturday                      uint8  \n",
      " 14  day_of_week_Sunday                        uint8  \n",
      " 15  day_of_week_Thursday                      uint8  \n",
      " 16  day_of_week_Tuesday                       uint8  \n",
      " 17  day_of_week_Wednesday                     uint8  \n",
      "dtypes: float64(9), int64(2), uint8(7)\n",
      "memory usage: 269.4 MB\n"
     ]
    }
   ],
   "source": [
    "df.info()"
   ]
  },
  {
   "cell_type": "code",
   "execution_count": 8,
   "id": "f10ed807",
   "metadata": {},
   "outputs": [],
   "source": [
    "import random"
   ]
  },
  {
   "cell_type": "code",
   "execution_count": 9,
   "id": "cc25e5e7",
   "metadata": {},
   "outputs": [],
   "source": [
    "\n",
    "# Get a random sample of 1000 rows\n",
    "df = df.sample(n=100000)\n",
    "\n",
    "# Reset the index of the new dataframe\n",
    "df = df.reset_index(drop=True)\n"
   ]
  },
  {
   "cell_type": "code",
   "execution_count": null,
   "id": "e7ec8a88",
   "metadata": {},
   "outputs": [],
   "source": []
  },
  {
   "cell_type": "code",
   "execution_count": 10,
   "id": "c2ec9462",
   "metadata": {},
   "outputs": [],
   "source": [
    "y = df['arr_delay']"
   ]
  },
  {
   "cell_type": "code",
   "execution_count": 11,
   "id": "19f730c5",
   "metadata": {},
   "outputs": [],
   "source": [
    "x = df.drop('arr_delay', axis=1)"
   ]
  },
  {
   "cell_type": "code",
   "execution_count": 12,
   "id": "774ca429",
   "metadata": {},
   "outputs": [],
   "source": [
    "from sklearn.model_selection import train_test_split"
   ]
  },
  {
   "cell_type": "code",
   "execution_count": 13,
   "id": "b60995db",
   "metadata": {},
   "outputs": [],
   "source": [
    "# split data into training and testing sets\n",
    "X_train, X_test, y_train, y_test = train_test_split(x, y, test_size=0.2, random_state=42)\n"
   ]
  },
  {
   "cell_type": "code",
   "execution_count": 14,
   "id": "befccbf5",
   "metadata": {},
   "outputs": [
    {
     "name": "stdout",
     "output_type": "stream",
     "text": [
      "X_train shape: (80000, 17)\n",
      "X_test shape: (20000, 17)\n"
     ]
    }
   ],
   "source": [
    "print(\"X_train shape:\", X_train.shape)\n",
    "print(\"X_test shape:\", X_test.shape)\n"
   ]
  },
  {
   "cell_type": "code",
   "execution_count": 15,
   "id": "9e10c3fa",
   "metadata": {},
   "outputs": [],
   "source": [
    "from sklearn.model_selection import GridSearchCV\n",
    "from sklearn.linear_model import Ridge, Lasso"
   ]
  },
  {
   "cell_type": "code",
   "execution_count": 62,
   "id": "93bc3429",
   "metadata": {},
   "outputs": [
    {
     "name": "stderr",
     "output_type": "stream",
     "text": [
      "C:\\Users\\patel\\anaconda3\\lib\\site-packages\\sklearn\\linear_model\\_ridge.py:216: LinAlgWarning: Ill-conditioned matrix (rcond=3.7282e-17): result may not be accurate.\n",
      "  return linalg.solve(A, Xy, assume_a=\"pos\", overwrite_a=True).T\n",
      "C:\\Users\\patel\\anaconda3\\lib\\site-packages\\sklearn\\linear_model\\_ridge.py:216: LinAlgWarning: Ill-conditioned matrix (rcond=3.76564e-17): result may not be accurate.\n",
      "  return linalg.solve(A, Xy, assume_a=\"pos\", overwrite_a=True).T\n",
      "C:\\Users\\patel\\anaconda3\\lib\\site-packages\\sklearn\\linear_model\\_ridge.py:216: LinAlgWarning: Ill-conditioned matrix (rcond=3.72451e-17): result may not be accurate.\n",
      "  return linalg.solve(A, Xy, assume_a=\"pos\", overwrite_a=True).T\n",
      "C:\\Users\\patel\\anaconda3\\lib\\site-packages\\sklearn\\linear_model\\_ridge.py:216: LinAlgWarning: Ill-conditioned matrix (rcond=3.73673e-17): result may not be accurate.\n",
      "  return linalg.solve(A, Xy, assume_a=\"pos\", overwrite_a=True).T\n",
      "C:\\Users\\patel\\anaconda3\\lib\\site-packages\\sklearn\\linear_model\\_ridge.py:216: LinAlgWarning: Ill-conditioned matrix (rcond=3.72188e-17): result may not be accurate.\n",
      "  return linalg.solve(A, Xy, assume_a=\"pos\", overwrite_a=True).T\n"
     ]
    },
    {
     "name": "stdout",
     "output_type": "stream",
     "text": [
      "Best alpha for Ridge regression: 10.0\n",
      "Best alpha for Lasso regression: 0.1\n",
      "Best mean squared error for Ridge regression: 2331.9914636271724\n",
      "Best mean squared error for Lasso regression: 2332.42623882772\n"
     ]
    }
   ],
   "source": [
    "from sklearn.model_selection import GridSearchCV\n",
    "from sklearn.linear_model import Ridge, Lasso\n",
    "\n",
    "from sklearn.metrics import mean_squared_error\n",
    "\n",
    "\n",
    "\n",
    "# Create the Ridge regression model\n",
    "ridge = Ridge()\n",
    "\n",
    "# Define the parameter grid for Ridge regression\n",
    "ridge_param_grid = {'alpha': [0.1, 1.0, 10.0]}\n",
    "\n",
    "# Perform the grid search for Ridge regression\n",
    "ridge_grid_search = GridSearchCV(ridge, ridge_param_grid, scoring='neg_mean_squared_error', cv=5)\n",
    "ridge_grid_search.fit(x, y)\n",
    "\n",
    "# Retrieve the best model and best parameter for Ridge regression\n",
    "best_ridge_model = ridge_grid_search.best_estimator_\n",
    "best_ridge_alpha = ridge_grid_search.best_params_['alpha']\n",
    "\n",
    "# Create the Lasso regression model\n",
    "lasso = Lasso()\n",
    "\n",
    "# Define the parameter grid for Lasso regression\n",
    "lasso_param_grid = {'alpha': [0.1, 1.0, 10.0]}\n",
    "\n",
    "# Perform the grid search for Lasso regression\n",
    "lasso_grid_search = GridSearchCV(lasso, lasso_param_grid, scoring='neg_mean_squared_error', cv=5)\n",
    "lasso_grid_search.fit(x,y)\n",
    "\n",
    "# Retrieve the best model and best parameter for Lasso regression\n",
    "best_lasso_model = lasso_grid_search.best_estimator_\n",
    "best_lasso_alpha = lasso_grid_search.best_params_['alpha']\n",
    "\n",
    "# Print the best parameters and best mean squared error for Ridge and Lasso regressions\n",
    "print(\"Best alpha for Ridge regression:\", best_ridge_alpha)\n",
    "print(\"Best alpha for Lasso regression:\", best_lasso_alpha)\n",
    "print(\"Best mean squared error for Ridge regression:\", -ridge_grid_search.best_score_)\n",
    "print(\"Best mean squared error for Lasso regression:\", -lasso_grid_search.best_score_)"
   ]
  },
  {
   "cell_type": "markdown",
   "id": "b857273e",
   "metadata": {},
   "source": [
    "# ridge_model"
   ]
  },
  {
   "cell_type": "code",
   "execution_count": 63,
   "id": "caf16d4f",
   "metadata": {},
   "outputs": [],
   "source": [
    "model = Ridge(alpha=10)"
   ]
  },
  {
   "cell_type": "code",
   "execution_count": 64,
   "id": "be9ecc70",
   "metadata": {},
   "outputs": [
    {
     "data": {
      "text/html": [
       "<style>#sk-container-id-4 {color: black;background-color: white;}#sk-container-id-4 pre{padding: 0;}#sk-container-id-4 div.sk-toggleable {background-color: white;}#sk-container-id-4 label.sk-toggleable__label {cursor: pointer;display: block;width: 100%;margin-bottom: 0;padding: 0.3em;box-sizing: border-box;text-align: center;}#sk-container-id-4 label.sk-toggleable__label-arrow:before {content: \"▸\";float: left;margin-right: 0.25em;color: #696969;}#sk-container-id-4 label.sk-toggleable__label-arrow:hover:before {color: black;}#sk-container-id-4 div.sk-estimator:hover label.sk-toggleable__label-arrow:before {color: black;}#sk-container-id-4 div.sk-toggleable__content {max-height: 0;max-width: 0;overflow: hidden;text-align: left;background-color: #f0f8ff;}#sk-container-id-4 div.sk-toggleable__content pre {margin: 0.2em;color: black;border-radius: 0.25em;background-color: #f0f8ff;}#sk-container-id-4 input.sk-toggleable__control:checked~div.sk-toggleable__content {max-height: 200px;max-width: 100%;overflow: auto;}#sk-container-id-4 input.sk-toggleable__control:checked~label.sk-toggleable__label-arrow:before {content: \"▾\";}#sk-container-id-4 div.sk-estimator input.sk-toggleable__control:checked~label.sk-toggleable__label {background-color: #d4ebff;}#sk-container-id-4 div.sk-label input.sk-toggleable__control:checked~label.sk-toggleable__label {background-color: #d4ebff;}#sk-container-id-4 input.sk-hidden--visually {border: 0;clip: rect(1px 1px 1px 1px);clip: rect(1px, 1px, 1px, 1px);height: 1px;margin: -1px;overflow: hidden;padding: 0;position: absolute;width: 1px;}#sk-container-id-4 div.sk-estimator {font-family: monospace;background-color: #f0f8ff;border: 1px dotted black;border-radius: 0.25em;box-sizing: border-box;margin-bottom: 0.5em;}#sk-container-id-4 div.sk-estimator:hover {background-color: #d4ebff;}#sk-container-id-4 div.sk-parallel-item::after {content: \"\";width: 100%;border-bottom: 1px solid gray;flex-grow: 1;}#sk-container-id-4 div.sk-label:hover label.sk-toggleable__label {background-color: #d4ebff;}#sk-container-id-4 div.sk-serial::before {content: \"\";position: absolute;border-left: 1px solid gray;box-sizing: border-box;top: 0;bottom: 0;left: 50%;z-index: 0;}#sk-container-id-4 div.sk-serial {display: flex;flex-direction: column;align-items: center;background-color: white;padding-right: 0.2em;padding-left: 0.2em;position: relative;}#sk-container-id-4 div.sk-item {position: relative;z-index: 1;}#sk-container-id-4 div.sk-parallel {display: flex;align-items: stretch;justify-content: center;background-color: white;position: relative;}#sk-container-id-4 div.sk-item::before, #sk-container-id-4 div.sk-parallel-item::before {content: \"\";position: absolute;border-left: 1px solid gray;box-sizing: border-box;top: 0;bottom: 0;left: 50%;z-index: -1;}#sk-container-id-4 div.sk-parallel-item {display: flex;flex-direction: column;z-index: 1;position: relative;background-color: white;}#sk-container-id-4 div.sk-parallel-item:first-child::after {align-self: flex-end;width: 50%;}#sk-container-id-4 div.sk-parallel-item:last-child::after {align-self: flex-start;width: 50%;}#sk-container-id-4 div.sk-parallel-item:only-child::after {width: 0;}#sk-container-id-4 div.sk-dashed-wrapped {border: 1px dashed gray;margin: 0 0.4em 0.5em 0.4em;box-sizing: border-box;padding-bottom: 0.4em;background-color: white;}#sk-container-id-4 div.sk-label label {font-family: monospace;font-weight: bold;display: inline-block;line-height: 1.2em;}#sk-container-id-4 div.sk-label-container {text-align: center;}#sk-container-id-4 div.sk-container {/* jupyter's `normalize.less` sets `[hidden] { display: none; }` but bootstrap.min.css set `[hidden] { display: none !important; }` so we also need the `!important` here to be able to override the default hidden behavior on the sphinx rendered scikit-learn.org. See: https://github.com/scikit-learn/scikit-learn/issues/21755 */display: inline-block !important;position: relative;}#sk-container-id-4 div.sk-text-repr-fallback {display: none;}</style><div id=\"sk-container-id-4\" class=\"sk-top-container\"><div class=\"sk-text-repr-fallback\"><pre>Ridge(alpha=10)</pre><b>In a Jupyter environment, please rerun this cell to show the HTML representation or trust the notebook. <br />On GitHub, the HTML representation is unable to render, please try loading this page with nbviewer.org.</b></div><div class=\"sk-container\" hidden><div class=\"sk-item\"><div class=\"sk-estimator sk-toggleable\"><input class=\"sk-toggleable__control sk-hidden--visually\" id=\"sk-estimator-id-4\" type=\"checkbox\" checked><label for=\"sk-estimator-id-4\" class=\"sk-toggleable__label sk-toggleable__label-arrow\">Ridge</label><div class=\"sk-toggleable__content\"><pre>Ridge(alpha=10)</pre></div></div></div></div></div>"
      ],
      "text/plain": [
       "Ridge(alpha=10)"
      ]
     },
     "execution_count": 64,
     "metadata": {},
     "output_type": "execute_result"
    }
   ],
   "source": [
    "model.fit(X_train, y_train)"
   ]
  },
  {
   "cell_type": "code",
   "execution_count": 65,
   "id": "fe291e1d",
   "metadata": {},
   "outputs": [],
   "source": [
    "y_pred = model.predict(X_test)"
   ]
  },
  {
   "cell_type": "code",
   "execution_count": 66,
   "id": "b2bc778d",
   "metadata": {},
   "outputs": [],
   "source": [
    "from sklearn.linear_model import Ridge, Lasso\n",
    "\n",
    "from sklearn.metrics import mean_squared_error\n",
    "\n"
   ]
  },
  {
   "cell_type": "code",
   "execution_count": 67,
   "id": "ebbb0cf9",
   "metadata": {},
   "outputs": [
    {
     "name": "stdout",
     "output_type": "stream",
     "text": [
      "Mean Squared Error: 2100.9097275610557\n"
     ]
    }
   ],
   "source": [
    "mse = mean_squared_error(y_test, y_pred)\n",
    "print(\"Mean Squared Error:\", mse)"
   ]
  },
  {
   "cell_type": "code",
   "execution_count": 20,
   "id": "b7d4e678",
   "metadata": {},
   "outputs": [],
   "source": [
    "from sklearn.metrics import r2_score"
   ]
  },
  {
   "cell_type": "code",
   "execution_count": 69,
   "id": "6d25c866",
   "metadata": {},
   "outputs": [],
   "source": [
    "R2_lr = r2_score (y_test, y_pred)"
   ]
  },
  {
   "cell_type": "code",
   "execution_count": 70,
   "id": "a9e050c3",
   "metadata": {},
   "outputs": [
    {
     "data": {
      "text/plain": [
       "0.03174939338229499"
      ]
     },
     "execution_count": 70,
     "metadata": {},
     "output_type": "execute_result"
    }
   ],
   "source": [
    "R2_lr"
   ]
  },
  {
   "cell_type": "markdown",
   "id": "c664f901",
   "metadata": {},
   "source": [
    "# Esembel Techniques"
   ]
  },
  {
   "cell_type": "code",
   "execution_count": 16,
   "id": "f6919971",
   "metadata": {},
   "outputs": [],
   "source": [
    "from sklearn.ensemble import RandomForestRegressor, GradientBoostingRegressor\n",
    "import xgboost as xgb\n",
    "from sklearn.metrics import mean_squared_error\n",
    "from sklearn.datasets import make_regression\n",
    "from sklearn.model_selection import train_test_split\n"
   ]
  },
  {
   "cell_type": "code",
   "execution_count": 17,
   "id": "57cce5ff",
   "metadata": {},
   "outputs": [
    {
     "name": "stdout",
     "output_type": "stream",
     "text": [
      "Random Forest MSE: 1909.1760774350003\n"
     ]
    }
   ],
   "source": [
    "# Random Forest Regressor\n",
    "rf = RandomForestRegressor(n_estimators=100, random_state=42)\n",
    "rf.fit(X_train, y_train)\n",
    "rf_predictions = rf.predict(X_test)\n",
    "rf_mse = mean_squared_error(y_test, rf_predictions)\n",
    "print(\"Random Forest MSE:\", rf_mse)"
   ]
  },
  {
   "cell_type": "code",
   "execution_count": 22,
   "id": "61896a22",
   "metadata": {},
   "outputs": [
    {
     "name": "stdout",
     "output_type": "stream",
     "text": [
      "Gradient Boosting MSE: 2297.6377097961185\n"
     ]
    }
   ],
   "source": [
    "# Gradient Boosting\n",
    "gb = GradientBoostingRegressor(n_estimators=100, random_state=42)\n",
    "gb.fit(X_train, y_train)\n",
    "gb_predictions = gb.predict(X_test)\n",
    "gb_mse = mean_squared_error(y_test, gb_predictions)\n",
    "print(\"Gradient Boosting MSE:\", gb_mse)\n"
   ]
  },
  {
   "cell_type": "code",
   "execution_count": 23,
   "id": "bd3c5993",
   "metadata": {},
   "outputs": [
    {
     "name": "stdout",
     "output_type": "stream",
     "text": [
      "XGBoost MSE: 2224.4991108699696\n"
     ]
    }
   ],
   "source": [
    "# XGBoost\n",
    "xgb_model = xgb.XGBRegressor(n_estimators=100, random_state=42)\n",
    "xgb_model.fit(X_train, y_train)\n",
    "xgb_predictions = xgb_model.predict(X_test)\n",
    "xgb_mse = mean_squared_error(y_test, xgb_predictions)\n",
    "print(\"XGBoost MSE:\", xgb_mse)"
   ]
  },
  {
   "cell_type": "markdown",
   "id": "9cbb0a0c",
   "metadata": {},
   "source": [
    "Random Forest with lowest MSE"
   ]
  },
  {
   "cell_type": "code",
   "execution_count": 21,
   "id": "b1e0ee65",
   "metadata": {},
   "outputs": [],
   "source": [
    "R2_lr = r2_score (y_test, rf_predictions)"
   ]
  },
  {
   "cell_type": "code",
   "execution_count": 22,
   "id": "c38aa2a3",
   "metadata": {},
   "outputs": [
    {
     "data": {
      "text/plain": [
       "0.10319376533141655"
      ]
     },
     "execution_count": 22,
     "metadata": {},
     "output_type": "execute_result"
    }
   ],
   "source": [
    "R2_lr"
   ]
  },
  {
   "cell_type": "markdown",
   "id": "1852d854",
   "metadata": {},
   "source": [
    "# Decision Tree Classifier with criterion gini index"
   ]
  },
  {
   "cell_type": "code",
   "execution_count": 77,
   "id": "08e7340e",
   "metadata": {},
   "outputs": [
    {
     "data": {
      "text/html": [
       "<style>#sk-container-id-5 {color: black;background-color: white;}#sk-container-id-5 pre{padding: 0;}#sk-container-id-5 div.sk-toggleable {background-color: white;}#sk-container-id-5 label.sk-toggleable__label {cursor: pointer;display: block;width: 100%;margin-bottom: 0;padding: 0.3em;box-sizing: border-box;text-align: center;}#sk-container-id-5 label.sk-toggleable__label-arrow:before {content: \"▸\";float: left;margin-right: 0.25em;color: #696969;}#sk-container-id-5 label.sk-toggleable__label-arrow:hover:before {color: black;}#sk-container-id-5 div.sk-estimator:hover label.sk-toggleable__label-arrow:before {color: black;}#sk-container-id-5 div.sk-toggleable__content {max-height: 0;max-width: 0;overflow: hidden;text-align: left;background-color: #f0f8ff;}#sk-container-id-5 div.sk-toggleable__content pre {margin: 0.2em;color: black;border-radius: 0.25em;background-color: #f0f8ff;}#sk-container-id-5 input.sk-toggleable__control:checked~div.sk-toggleable__content {max-height: 200px;max-width: 100%;overflow: auto;}#sk-container-id-5 input.sk-toggleable__control:checked~label.sk-toggleable__label-arrow:before {content: \"▾\";}#sk-container-id-5 div.sk-estimator input.sk-toggleable__control:checked~label.sk-toggleable__label {background-color: #d4ebff;}#sk-container-id-5 div.sk-label input.sk-toggleable__control:checked~label.sk-toggleable__label {background-color: #d4ebff;}#sk-container-id-5 input.sk-hidden--visually {border: 0;clip: rect(1px 1px 1px 1px);clip: rect(1px, 1px, 1px, 1px);height: 1px;margin: -1px;overflow: hidden;padding: 0;position: absolute;width: 1px;}#sk-container-id-5 div.sk-estimator {font-family: monospace;background-color: #f0f8ff;border: 1px dotted black;border-radius: 0.25em;box-sizing: border-box;margin-bottom: 0.5em;}#sk-container-id-5 div.sk-estimator:hover {background-color: #d4ebff;}#sk-container-id-5 div.sk-parallel-item::after {content: \"\";width: 100%;border-bottom: 1px solid gray;flex-grow: 1;}#sk-container-id-5 div.sk-label:hover label.sk-toggleable__label {background-color: #d4ebff;}#sk-container-id-5 div.sk-serial::before {content: \"\";position: absolute;border-left: 1px solid gray;box-sizing: border-box;top: 0;bottom: 0;left: 50%;z-index: 0;}#sk-container-id-5 div.sk-serial {display: flex;flex-direction: column;align-items: center;background-color: white;padding-right: 0.2em;padding-left: 0.2em;position: relative;}#sk-container-id-5 div.sk-item {position: relative;z-index: 1;}#sk-container-id-5 div.sk-parallel {display: flex;align-items: stretch;justify-content: center;background-color: white;position: relative;}#sk-container-id-5 div.sk-item::before, #sk-container-id-5 div.sk-parallel-item::before {content: \"\";position: absolute;border-left: 1px solid gray;box-sizing: border-box;top: 0;bottom: 0;left: 50%;z-index: -1;}#sk-container-id-5 div.sk-parallel-item {display: flex;flex-direction: column;z-index: 1;position: relative;background-color: white;}#sk-container-id-5 div.sk-parallel-item:first-child::after {align-self: flex-end;width: 50%;}#sk-container-id-5 div.sk-parallel-item:last-child::after {align-self: flex-start;width: 50%;}#sk-container-id-5 div.sk-parallel-item:only-child::after {width: 0;}#sk-container-id-5 div.sk-dashed-wrapped {border: 1px dashed gray;margin: 0 0.4em 0.5em 0.4em;box-sizing: border-box;padding-bottom: 0.4em;background-color: white;}#sk-container-id-5 div.sk-label label {font-family: monospace;font-weight: bold;display: inline-block;line-height: 1.2em;}#sk-container-id-5 div.sk-label-container {text-align: center;}#sk-container-id-5 div.sk-container {/* jupyter's `normalize.less` sets `[hidden] { display: none; }` but bootstrap.min.css set `[hidden] { display: none !important; }` so we also need the `!important` here to be able to override the default hidden behavior on the sphinx rendered scikit-learn.org. See: https://github.com/scikit-learn/scikit-learn/issues/21755 */display: inline-block !important;position: relative;}#sk-container-id-5 div.sk-text-repr-fallback {display: none;}</style><div id=\"sk-container-id-5\" class=\"sk-top-container\"><div class=\"sk-text-repr-fallback\"><pre>DecisionTreeClassifier(max_depth=3, random_state=0)</pre><b>In a Jupyter environment, please rerun this cell to show the HTML representation or trust the notebook. <br />On GitHub, the HTML representation is unable to render, please try loading this page with nbviewer.org.</b></div><div class=\"sk-container\" hidden><div class=\"sk-item\"><div class=\"sk-estimator sk-toggleable\"><input class=\"sk-toggleable__control sk-hidden--visually\" id=\"sk-estimator-id-5\" type=\"checkbox\" checked><label for=\"sk-estimator-id-5\" class=\"sk-toggleable__label sk-toggleable__label-arrow\">DecisionTreeClassifier</label><div class=\"sk-toggleable__content\"><pre>DecisionTreeClassifier(max_depth=3, random_state=0)</pre></div></div></div></div></div>"
      ],
      "text/plain": [
       "DecisionTreeClassifier(max_depth=3, random_state=0)"
      ]
     },
     "execution_count": 77,
     "metadata": {},
     "output_type": "execute_result"
    }
   ],
   "source": [
    "from sklearn.tree import DecisionTreeClassifier\n",
    "\n",
    "clf_gini = DecisionTreeClassifier(criterion='gini', max_depth=3, random_state=0) #Descition Tree model\n",
    "\n",
    "\n",
    "# fit the model\n",
    "clf_gini.fit(X_train, y_train)"
   ]
  },
  {
   "cell_type": "code",
   "execution_count": 78,
   "id": "5bbc70c1",
   "metadata": {},
   "outputs": [],
   "source": [
    "y_pred_gini = clf_gini.predict(X_test) #Prediction"
   ]
  },
  {
   "cell_type": "code",
   "execution_count": 79,
   "id": "ddfbb197",
   "metadata": {},
   "outputs": [
    {
     "name": "stdout",
     "output_type": "stream",
     "text": [
      "Model accuracy score with criterion gini index: 0.0296\n"
     ]
    }
   ],
   "source": [
    "from sklearn.metrics import accuracy_score\n",
    "\n",
    "print('Model accuracy score with criterion gini index: {0:0.4f}'. format(accuracy_score(y_test, y_pred_gini)))"
   ]
  },
  {
   "cell_type": "code",
   "execution_count": 81,
   "id": "344a3889",
   "metadata": {},
   "outputs": [],
   "source": [
    "import matplotlib.pyplot as plt"
   ]
  },
  {
   "cell_type": "code",
   "execution_count": 82,
   "id": "ae716162",
   "metadata": {},
   "outputs": [
    {
     "data": {
      "image/png": "[encoded data removed]",
      "text/plain": [
       "<Figure size 1200x800 with 1 Axes>"
      ]
     },
     "metadata": {},
     "output_type": "display_data"
    }
   ],
   "source": [
    "plt.figure(figsize=(12,8))\n",
    "\n",
    "from sklearn import tree\n",
    "\n",
    "tree.plot_tree(clf_gini.fit(X_train, y_train)) ;"
   ]
  },
  {
   "cell_type": "markdown",
   "id": "b019ea6c",
   "metadata": {},
   "source": [
    "# linear_regression"
   ]
  },
  {
   "cell_type": "code",
   "execution_count": 15,
   "id": "6cc1c9fe",
   "metadata": {},
   "outputs": [],
   "source": [
    "import statsmodels.api as sm\n",
    "X = sm.add_constant(x)"
   ]
  },
  {
   "cell_type": "code",
   "execution_count": 16,
   "id": "bea06a3b",
   "metadata": {},
   "outputs": [],
   "source": [
    "lin_reg = sm.OLS(y,X)"
   ]
  },
  {
   "cell_type": "code",
   "execution_count": 17,
   "id": "ba25adf5",
   "metadata": {},
   "outputs": [
    {
     "name": "stdout",
     "output_type": "stream",
     "text": [
      "                            OLS Regression Results                            \n",
      "==============================================================================\n",
      "Dep. Variable:              arr_delay   R-squared:                       0.031\n",
      "Model:                            OLS   Adj. R-squared:                  0.031\n",
      "Method:                 Least Squares   F-statistic:                     201.2\n",
      "Date:                Thu, 18 May 2023   Prob (F-statistic):               0.00\n",
      "Time:                        12:25:25   Log-Likelihood:            -5.2816e+05\n",
      "No. Observations:              100000   AIC:                         1.056e+06\n",
      "Df Residuals:                   99983   BIC:                         1.057e+06\n",
      "Df Model:                          16                                         \n",
      "Covariance Type:            nonrobust                                         \n",
      "============================================================================================================\n",
      "                                               coef    std err          t      P>|t|      [0.025      0.975]\n",
      "------------------------------------------------------------------------------------------------------------\n",
      "const                                       -3.6019      3.316     -1.086      0.277     -10.102       2.898\n",
      "crs_arr_time                                 0.0045      0.000     15.339      0.000       0.004       0.005\n",
      "fl_date_day_of_month                        -0.1727      0.017    -10.241      0.000      -0.206      -0.140\n",
      "origin_city_avg_dep_delay                   -0.5275      0.061     -8.631      0.000      -0.647      -0.408\n",
      "origin_day_week_avg_dep_delay                1.0118      0.047     21.492      0.000       0.920       1.104\n",
      "dest_day_week_avg_arr_delay                  0.7506      0.040     18.609      0.000       0.672       0.830\n",
      "dest_city_avg_arr_delay                     -0.0351      0.052     -0.674      0.501      -0.137       0.067\n",
      "op_unique_carrier_day_week_avg_arr_delay     0.6661      0.033     20.131      0.000       0.601       0.731\n",
      "distance_group_airtime_avg                  -0.0138      0.004     -3.755      0.000      -0.021      -0.007\n",
      "distance_group__day_passenger_avg           -0.0025      0.002     -1.368      0.171      -0.006       0.001\n",
      "distance_group_day_payload_avg            5.458e-06   3.47e-06      1.573      0.116   -1.34e-06    1.23e-05\n",
      "day_of_week_Friday                           0.0776      0.609      0.127      0.899      -1.117       1.272\n",
      "day_of_week_Monday                          -4.5527      0.616     -7.391      0.000      -5.760      -3.345\n",
      "day_of_week_Saturday                         3.2759      0.687      4.766      0.000       1.929       4.623\n",
      "day_of_week_Sunday                          -0.0954      0.612     -0.156      0.876      -1.295       1.104\n",
      "day_of_week_Thursday                        -1.6843      0.581     -2.899      0.004      -2.823      -0.546\n",
      "day_of_week_Tuesday                          0.8322      0.596      1.396      0.163      -0.336       2.001\n",
      "day_of_week_Wednesday                       -1.4552      0.581     -2.503      0.012      -2.595      -0.316\n",
      "==============================================================================\n",
      "Omnibus:                   144683.111   Durbin-Watson:                   1.993\n",
      "Prob(Omnibus):                  0.000   Jarque-Bera (JB):         87182545.794\n",
      "Skew:                           8.550   Prob(JB):                         0.00\n",
      "Kurtosis:                     146.636   Cond. No.                     7.71e+21\n",
      "==============================================================================\n",
      "\n",
      "Notes:\n",
      "[1] Standard Errors assume that the covariance matrix of the errors is correctly specified.\n",
      "[2] The smallest eigenvalue is 5.01e-27. This might indicate that there are\n",
      "strong multicollinearity problems or that the design matrix is singular.\n"
     ]
    }
   ],
   "source": [
    "model = lin_reg.fit()\n",
    "print_model = model.summary()\n",
    "print(print_model)"
   ]
  },
  {
   "cell_type": "code",
   "execution_count": 26,
   "id": "d2976ead",
   "metadata": {},
   "outputs": [
    {
     "data": {
      "text/html": [
       "<style>#sk-container-id-2 {color: black;background-color: white;}#sk-container-id-2 pre{padding: 0;}#sk-container-id-2 div.sk-toggleable {background-color: white;}#sk-container-id-2 label.sk-toggleable__label {cursor: pointer;display: block;width: 100%;margin-bottom: 0;padding: 0.3em;box-sizing: border-box;text-align: center;}#sk-container-id-2 label.sk-toggleable__label-arrow:before {content: \"▸\";float: left;margin-right: 0.25em;color: #696969;}#sk-container-id-2 label.sk-toggleable__label-arrow:hover:before {color: black;}#sk-container-id-2 div.sk-estimator:hover label.sk-toggleable__label-arrow:before {color: black;}#sk-container-id-2 div.sk-toggleable__content {max-height: 0;max-width: 0;overflow: hidden;text-align: left;background-color: #f0f8ff;}#sk-container-id-2 div.sk-toggleable__content pre {margin: 0.2em;color: black;border-radius: 0.25em;background-color: #f0f8ff;}#sk-container-id-2 input.sk-toggleable__control:checked~div.sk-toggleable__content {max-height: 200px;max-width: 100%;overflow: auto;}#sk-container-id-2 input.sk-toggleable__control:checked~label.sk-toggleable__label-arrow:before {content: \"▾\";}#sk-container-id-2 div.sk-estimator input.sk-toggleable__control:checked~label.sk-toggleable__label {background-color: #d4ebff;}#sk-container-id-2 div.sk-label input.sk-toggleable__control:checked~label.sk-toggleable__label {background-color: #d4ebff;}#sk-container-id-2 input.sk-hidden--visually {border: 0;clip: rect(1px 1px 1px 1px);clip: rect(1px, 1px, 1px, 1px);height: 1px;margin: -1px;overflow: hidden;padding: 0;position: absolute;width: 1px;}#sk-container-id-2 div.sk-estimator {font-family: monospace;background-color: #f0f8ff;border: 1px dotted black;border-radius: 0.25em;box-sizing: border-box;margin-bottom: 0.5em;}#sk-container-id-2 div.sk-estimator:hover {background-color: #d4ebff;}#sk-container-id-2 div.sk-parallel-item::after {content: \"\";width: 100%;border-bottom: 1px solid gray;flex-grow: 1;}#sk-container-id-2 div.sk-label:hover label.sk-toggleable__label {background-color: #d4ebff;}#sk-container-id-2 div.sk-serial::before {content: \"\";position: absolute;border-left: 1px solid gray;box-sizing: border-box;top: 0;bottom: 0;left: 50%;z-index: 0;}#sk-container-id-2 div.sk-serial {display: flex;flex-direction: column;align-items: center;background-color: white;padding-right: 0.2em;padding-left: 0.2em;position: relative;}#sk-container-id-2 div.sk-item {position: relative;z-index: 1;}#sk-container-id-2 div.sk-parallel {display: flex;align-items: stretch;justify-content: center;background-color: white;position: relative;}#sk-container-id-2 div.sk-item::before, #sk-container-id-2 div.sk-parallel-item::before {content: \"\";position: absolute;border-left: 1px solid gray;box-sizing: border-box;top: 0;bottom: 0;left: 50%;z-index: -1;}#sk-container-id-2 div.sk-parallel-item {display: flex;flex-direction: column;z-index: 1;position: relative;background-color: white;}#sk-container-id-2 div.sk-parallel-item:first-child::after {align-self: flex-end;width: 50%;}#sk-container-id-2 div.sk-parallel-item:last-child::after {align-self: flex-start;width: 50%;}#sk-container-id-2 div.sk-parallel-item:only-child::after {width: 0;}#sk-container-id-2 div.sk-dashed-wrapped {border: 1px dashed gray;margin: 0 0.4em 0.5em 0.4em;box-sizing: border-box;padding-bottom: 0.4em;background-color: white;}#sk-container-id-2 div.sk-label label {font-family: monospace;font-weight: bold;display: inline-block;line-height: 1.2em;}#sk-container-id-2 div.sk-label-container {text-align: center;}#sk-container-id-2 div.sk-container {/* jupyter's `normalize.less` sets `[hidden] { display: none; }` but bootstrap.min.css set `[hidden] { display: none !important; }` so we also need the `!important` here to be able to override the default hidden behavior on the sphinx rendered scikit-learn.org. See: https://github.com/scikit-learn/scikit-learn/issues/21755 */display: inline-block !important;position: relative;}#sk-container-id-2 div.sk-text-repr-fallback {display: none;}</style><div id=\"sk-container-id-2\" class=\"sk-top-container\"><div class=\"sk-text-repr-fallback\"><pre>LinearRegression()</pre><b>In a Jupyter environment, please rerun this cell to show the HTML representation or trust the notebook. <br />On GitHub, the HTML representation is unable to render, please try loading this page with nbviewer.org.</b></div><div class=\"sk-container\" hidden><div class=\"sk-item\"><div class=\"sk-estimator sk-toggleable\"><input class=\"sk-toggleable__control sk-hidden--visually\" id=\"sk-estimator-id-2\" type=\"checkbox\" checked><label for=\"sk-estimator-id-2\" class=\"sk-toggleable__label sk-toggleable__label-arrow\">LinearRegression</label><div class=\"sk-toggleable__content\"><pre>LinearRegression()</pre></div></div></div></div></div>"
      ],
      "text/plain": [
       "LinearRegression()"
      ]
     },
     "execution_count": 26,
     "metadata": {},
     "output_type": "execute_result"
    }
   ],
   "source": [
    "from sklearn.linear_model import LinearRegression\n",
    "\n",
    "regressor = LinearRegression()\n",
    "regressor.fit(X, y)\n"
   ]
  },
  {
   "cell_type": "code",
   "execution_count": 27,
   "id": "9b74f5cd",
   "metadata": {},
   "outputs": [
    {
     "data": {
      "text/plain": [
       "0.03167221057942038"
      ]
     },
     "execution_count": 27,
     "metadata": {},
     "output_type": "execute_result"
    }
   ],
   "source": [
    "regressor.score(X,y)"
   ]
  },
  {
   "cell_type": "code",
   "execution_count": null,
   "id": "a89e7ad9",
   "metadata": {},
   "outputs": [],
   "source": []
  },
  {
   "cell_type": "code",
   "execution_count": null,
   "id": "9c461f80",
   "metadata": {},
   "outputs": [],
   "source": []
  },
  {
   "cell_type": "code",
   "execution_count": null,
   "id": "8aa5c49f",
   "metadata": {},
   "outputs": [],
   "source": []
  },
  {
   "cell_type": "markdown",
   "id": "d28562e8",
   "metadata": {},
   "source": [
    "# Test dat Prediction"
   ]
  },
  {
   "cell_type": "code",
   "execution_count": 23,
   "id": "23d1874e",
   "metadata": {},
   "outputs": [],
   "source": [
    "# Data Path\n",
    "Data = \"C:/Users/patel/lighthouse-lab-allprojects/Mid-Project-Data/Flights_test_clean_final.csv\""
   ]
  },
  {
   "cell_type": "code",
   "execution_count": 24,
   "id": "505a5510",
   "metadata": {},
   "outputs": [],
   "source": [
    "df = pd.read_csv(Data, low_memory=False)"
   ]
  },
  {
   "cell_type": "code",
   "execution_count": 25,
   "id": "b27e65d9",
   "metadata": {},
   "outputs": [
    {
     "name": "stdout",
     "output_type": "stream",
     "text": [
      "<class 'pandas.core.frame.DataFrame'>\n",
      "RangeIndex: 627311 entries, 0 to 627310\n",
      "Data columns (total 18 columns):\n",
      " #   Column                                    Non-Null Count   Dtype  \n",
      "---  ------                                    --------------   -----  \n",
      " 0   fl_date                                   627311 non-null  object \n",
      " 1   mkt_carrier                               627311 non-null  object \n",
      " 2   mkt_carrier_fl_num                        627311 non-null  int64  \n",
      " 3   op_unique_carrier                         627311 non-null  object \n",
      " 4   crs_arr_time                              627311 non-null  int64  \n",
      " 5   fl_date_day_of_month                      627311 non-null  int64  \n",
      " 6   distance_group                            627311 non-null  int64  \n",
      " 7   origin                                    627311 non-null  object \n",
      " 8   dest                                      627311 non-null  object \n",
      " 9   day_of_week                               627311 non-null  object \n",
      " 10  origin_city_avg_dep_delay                 627311 non-null  float64\n",
      " 11  origin_day_week_avg_dep_delay             627311 non-null  float64\n",
      " 12  dest_day_week_avg_arr_delay               627311 non-null  float64\n",
      " 13  dest_city_avg_arr_delay                   627311 non-null  float64\n",
      " 14  op_unique_carrier_day_week_avg_arr_delay  627311 non-null  float64\n",
      " 15  distance_group_airtime_avg                627311 non-null  float64\n",
      " 16  distance_group__day_passenger_avg         627311 non-null  float64\n",
      " 17  distance_group_day_payload_avg            627311 non-null  float64\n",
      "dtypes: float64(8), int64(4), object(6)\n",
      "memory usage: 86.1+ MB\n"
     ]
    }
   ],
   "source": [
    "df.info()"
   ]
  },
  {
   "cell_type": "code",
   "execution_count": 26,
   "id": "939efec2",
   "metadata": {},
   "outputs": [
    {
     "data": {
      "text/plain": [
       "Index(['fl_date', 'mkt_carrier', 'mkt_carrier_fl_num', 'op_unique_carrier',\n",
       "       'crs_arr_time', 'fl_date_day_of_month', 'distance_group', 'origin',\n",
       "       'dest', 'day_of_week', 'origin_city_avg_dep_delay',\n",
       "       'origin_day_week_avg_dep_delay', 'dest_day_week_avg_arr_delay',\n",
       "       'dest_city_avg_arr_delay', 'op_unique_carrier_day_week_avg_arr_delay',\n",
       "       'distance_group_airtime_avg', 'distance_group__day_passenger_avg',\n",
       "       'distance_group_day_payload_avg'],\n",
       "      dtype='object')"
      ]
     },
     "execution_count": 26,
     "metadata": {},
     "output_type": "execute_result"
    }
   ],
   "source": [
    "df.columns"
   ]
  },
  {
   "cell_type": "code",
   "execution_count": 27,
   "id": "41f694b7",
   "metadata": {},
   "outputs": [],
   "source": [
    "df1 = df.drop(['fl_date', 'op_unique_carrier','distance_group', 'mkt_carrier', 'mkt_carrier_fl_num','origin',\n",
    "       'dest',], axis=1)"
   ]
  },
  {
   "cell_type": "code",
   "execution_count": 28,
   "id": "b735039d",
   "metadata": {},
   "outputs": [],
   "source": [
    "categories = df1.dtypes[df1.dtypes == 'object'].index.tolist()\n",
    "df_dummy = pd.get_dummies(df1[categories])\n",
    "df1 = pd.concat([df1, df_dummy], axis=1)\n",
    "df1 = df1.drop(columns=categories)"
   ]
  },
  {
   "cell_type": "code",
   "execution_count": 29,
   "id": "c7ae1c47",
   "metadata": {},
   "outputs": [
    {
     "name": "stdout",
     "output_type": "stream",
     "text": [
      "<class 'pandas.core.frame.DataFrame'>\n",
      "RangeIndex: 627311 entries, 0 to 627310\n",
      "Data columns (total 17 columns):\n",
      " #   Column                                    Non-Null Count   Dtype  \n",
      "---  ------                                    --------------   -----  \n",
      " 0   crs_arr_time                              627311 non-null  int64  \n",
      " 1   fl_date_day_of_month                      627311 non-null  int64  \n",
      " 2   origin_city_avg_dep_delay                 627311 non-null  float64\n",
      " 3   origin_day_week_avg_dep_delay             627311 non-null  float64\n",
      " 4   dest_day_week_avg_arr_delay               627311 non-null  float64\n",
      " 5   dest_city_avg_arr_delay                   627311 non-null  float64\n",
      " 6   op_unique_carrier_day_week_avg_arr_delay  627311 non-null  float64\n",
      " 7   distance_group_airtime_avg                627311 non-null  float64\n",
      " 8   distance_group__day_passenger_avg         627311 non-null  float64\n",
      " 9   distance_group_day_payload_avg            627311 non-null  float64\n",
      " 10  day_of_week_Friday                        627311 non-null  uint8  \n",
      " 11  day_of_week_Monday                        627311 non-null  uint8  \n",
      " 12  day_of_week_Saturday                      627311 non-null  uint8  \n",
      " 13  day_of_week_Sunday                        627311 non-null  uint8  \n",
      " 14  day_of_week_Thursday                      627311 non-null  uint8  \n",
      " 15  day_of_week_Tuesday                       627311 non-null  uint8  \n",
      " 16  day_of_week_Wednesday                     627311 non-null  uint8  \n",
      "dtypes: float64(8), int64(2), uint8(7)\n",
      "memory usage: 52.0 MB\n"
     ]
    }
   ],
   "source": [
    "df1.info()"
   ]
  },
  {
   "cell_type": "code",
   "execution_count": 30,
   "id": "dfff01e2",
   "metadata": {},
   "outputs": [],
   "source": [
    "y_pred = rf.predict(df1)"
   ]
  },
  {
   "cell_type": "code",
   "execution_count": 31,
   "id": "8a6ff868",
   "metadata": {},
   "outputs": [
    {
     "data": {
      "text/plain": [
       "array([ 11.93,  20.38,   7.03, ..., 146.25,  42.05,  -2.85])"
      ]
     },
     "execution_count": 31,
     "metadata": {},
     "output_type": "execute_result"
    }
   ],
   "source": [
    "y_pred"
   ]
  },
  {
   "cell_type": "code",
   "execution_count": 32,
   "id": "46dcc274",
   "metadata": {},
   "outputs": [],
   "source": [
    "df['pred_arr_delay'] = y_pred"
   ]
  },
  {
   "cell_type": "code",
   "execution_count": 33,
   "id": "6c3a3b6b",
   "metadata": {},
   "outputs": [
    {
     "data": {
      "text/plain": [
       "Index(['fl_date', 'mkt_carrier', 'mkt_carrier_fl_num', 'op_unique_carrier',\n",
       "       'crs_arr_time', 'fl_date_day_of_month', 'distance_group', 'origin',\n",
       "       'dest', 'day_of_week', 'origin_city_avg_dep_delay',\n",
       "       'origin_day_week_avg_dep_delay', 'dest_day_week_avg_arr_delay',\n",
       "       'dest_city_avg_arr_delay', 'op_unique_carrier_day_week_avg_arr_delay',\n",
       "       'distance_group_airtime_avg', 'distance_group__day_passenger_avg',\n",
       "       'distance_group_day_payload_avg', 'pred_arr_delay'],\n",
       "      dtype='object')"
      ]
     },
     "execution_count": 33,
     "metadata": {},
     "output_type": "execute_result"
    }
   ],
   "source": [
    "df.columns"
   ]
  },
  {
   "cell_type": "code",
   "execution_count": 35,
   "id": "b6263975",
   "metadata": {},
   "outputs": [],
   "source": [
    "df = df.drop([ 'op_unique_carrier',\n",
    "       'crs_arr_time', 'fl_date_day_of_month', 'distance_group', 'day_of_week', 'origin_city_avg_dep_delay',\n",
    "       'origin_day_week_avg_dep_delay', 'dest_day_week_avg_arr_delay',\n",
    "       'dest_city_avg_arr_delay', 'op_unique_carrier_day_week_avg_arr_delay',\n",
    "       'distance_group_airtime_avg', 'distance_group__day_passenger_avg',\n",
    "       'distance_group_day_payload_avg'], axis=1)"
   ]
  },
  {
   "cell_type": "code",
   "execution_count": 36,
   "id": "cbcf3204",
   "metadata": {},
   "outputs": [
    {
     "data": {
      "text/plain": [
       "Index(['fl_date', 'mkt_carrier', 'mkt_carrier_fl_num', 'origin', 'dest',\n",
       "       'pred_arr_delay'],\n",
       "      dtype='object')"
      ]
     },
     "execution_count": 36,
     "metadata": {},
     "output_type": "execute_result"
    }
   ],
   "source": [
    "df.columns"
   ]
  },
  {
   "cell_type": "code",
   "execution_count": 37,
   "id": "7201a0d1",
   "metadata": {},
   "outputs": [],
   "source": [
    "# Saving the DataFrame as a CSV file\n",
    "df.to_csv('C:/Users/patel/lighthouse-lab-allprojects/Mid-Project-Data/Submmision.csv', index=False)"
   ]
  },
  {
   "cell_type": "code",
   "execution_count": 38,
   "id": "ac0e50e5",
   "metadata": {},
   "outputs": [
    {
     "data": {
      "text/plain": [
       "-43.12"
      ]
     },
     "execution_count": 38,
     "metadata": {},
     "output_type": "execute_result"
    }
   ],
   "source": [
    "df['pred_arr_delay'].min()"
   ]
  },
  {
   "cell_type": "code",
   "execution_count": 39,
   "id": "7079e162",
   "metadata": {},
   "outputs": [
    {
     "data": {
      "text/plain": [
       "693.86"
      ]
     },
     "execution_count": 39,
     "metadata": {},
     "output_type": "execute_result"
    }
   ],
   "source": [
    "df['pred_arr_delay'].max()"
   ]
  },
  {
   "cell_type": "code",
   "execution_count": null,
   "id": "f6517a28",
   "metadata": {},
   "outputs": [],
   "source": []
  }
 ],
 "metadata": {
  "kernelspec": {
   "display_name": "Python 3 (ipykernel)",
   "language": "python",
   "name": "python3"
  },
  "language_info": {
   "codemirror_mode": {
    "name": "ipython",
    "version": 3
   },
   "file_extension": ".py",
   "mimetype": "text/x-python",
   "name": "python",
   "nbconvert_exporter": "python",
   "pygments_lexer": "ipython3",
   "version": "3.10.9"
  }
 },
 "nbformat": 4,
 "nbformat_minor": 5
}
