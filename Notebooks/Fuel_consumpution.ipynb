{
 "cells": [
  {
   "cell_type": "code",
   "execution_count": 4,
   "id": "52bff5ae",
   "metadata": {},
   "outputs": [],
   "source": [
    "# imports numpy and pandas\n",
    "import pandas as pd\n",
    "import numpy as np\n"
   ]
  },
  {
   "cell_type": "code",
   "execution_count": 5,
   "id": "c3222f85",
   "metadata": {},
   "outputs": [],
   "source": [
    "# Data Path\n",
    "Data = 'C:/Users/patel/lighthouse-lab-allprojects/Mid-Project-Data/fuel_consumption.csv'"
   ]
  },
  {
   "cell_type": "code",
   "execution_count": 6,
   "id": "2ec6cb96",
   "metadata": {},
   "outputs": [],
   "source": [
    "df = pd.read_csv(Data, low_memory=False)"
   ]
  },
  {
   "cell_type": "code",
   "execution_count": 7,
   "id": "c3d1db13",
   "metadata": {},
   "outputs": [
    {
     "data": {
      "text/html": [
       "<div>\n",
       "<style scoped>\n",
       "    .dataframe tbody tr th:only-of-type {\n",
       "        vertical-align: middle;\n",
       "    }\n",
       "\n",
       "    .dataframe tbody tr th {\n",
       "        vertical-align: top;\n",
       "    }\n",
       "\n",
       "    .dataframe thead th {\n",
       "        text-align: right;\n",
       "    }\n",
       "</style>\n",
       "<table border=\"1\" class=\"dataframe\">\n",
       "  <thead>\n",
       "    <tr style=\"text-align: right;\">\n",
       "      <th></th>\n",
       "      <th>month</th>\n",
       "      <th>airline_id</th>\n",
       "      <th>unique_carrier</th>\n",
       "      <th>carrier</th>\n",
       "      <th>carrier_name</th>\n",
       "      <th>carrier_group_new</th>\n",
       "      <th>sdomt_gallons</th>\n",
       "      <th>satl_gallons</th>\n",
       "      <th>spac_gallons</th>\n",
       "      <th>slat_gallons</th>\n",
       "      <th>...</th>\n",
       "      <th>sdomt_cost</th>\n",
       "      <th>satl_cost</th>\n",
       "      <th>spac_cost</th>\n",
       "      <th>slat_cost</th>\n",
       "      <th>sint_cost</th>\n",
       "      <th>ts_cost</th>\n",
       "      <th>tdomt_cost</th>\n",
       "      <th>tint_cost</th>\n",
       "      <th>total_cost</th>\n",
       "      <th>year</th>\n",
       "    </tr>\n",
       "  </thead>\n",
       "  <tbody>\n",
       "    <tr>\n",
       "      <th>0</th>\n",
       "      <td>1</td>\n",
       "      <td>NaN</td>\n",
       "      <td>NaN</td>\n",
       "      <td>0JQ</td>\n",
       "      <td>NaN</td>\n",
       "      <td>1</td>\n",
       "      <td>0.0</td>\n",
       "      <td>0.0</td>\n",
       "      <td>0.0</td>\n",
       "      <td>0.0</td>\n",
       "      <td>...</td>\n",
       "      <td>0</td>\n",
       "      <td>0.0</td>\n",
       "      <td>0.0</td>\n",
       "      <td>0.0</td>\n",
       "      <td>0.0</td>\n",
       "      <td>0</td>\n",
       "      <td>5100</td>\n",
       "      <td>0.0</td>\n",
       "      <td>5100</td>\n",
       "      <td>2016</td>\n",
       "    </tr>\n",
       "    <tr>\n",
       "      <th>1</th>\n",
       "      <td>1</td>\n",
       "      <td>21352.0</td>\n",
       "      <td>0WQ</td>\n",
       "      <td>0WQ</td>\n",
       "      <td>Avjet Corporation</td>\n",
       "      <td>1</td>\n",
       "      <td>0.0</td>\n",
       "      <td>0.0</td>\n",
       "      <td>0.0</td>\n",
       "      <td>0.0</td>\n",
       "      <td>...</td>\n",
       "      <td>0</td>\n",
       "      <td>0.0</td>\n",
       "      <td>0.0</td>\n",
       "      <td>0.0</td>\n",
       "      <td>0.0</td>\n",
       "      <td>0</td>\n",
       "      <td>396216</td>\n",
       "      <td>140239.0</td>\n",
       "      <td>536455</td>\n",
       "      <td>2016</td>\n",
       "    </tr>\n",
       "    <tr>\n",
       "      <th>2</th>\n",
       "      <td>1</td>\n",
       "      <td>21645.0</td>\n",
       "      <td>23Q</td>\n",
       "      <td>23Q</td>\n",
       "      <td>Songbird Airways Inc.</td>\n",
       "      <td>1</td>\n",
       "      <td>0.0</td>\n",
       "      <td>0.0</td>\n",
       "      <td>0.0</td>\n",
       "      <td>0.0</td>\n",
       "      <td>...</td>\n",
       "      <td>0</td>\n",
       "      <td>0.0</td>\n",
       "      <td>0.0</td>\n",
       "      <td>0.0</td>\n",
       "      <td>0.0</td>\n",
       "      <td>0</td>\n",
       "      <td>0</td>\n",
       "      <td>0.0</td>\n",
       "      <td>0</td>\n",
       "      <td>2016</td>\n",
       "    </tr>\n",
       "    <tr>\n",
       "      <th>3</th>\n",
       "      <td>1</td>\n",
       "      <td>21652.0</td>\n",
       "      <td>27Q</td>\n",
       "      <td>27Q</td>\n",
       "      <td>Jet Aviation Flight Services, Inc.</td>\n",
       "      <td>1</td>\n",
       "      <td>0.0</td>\n",
       "      <td>0.0</td>\n",
       "      <td>0.0</td>\n",
       "      <td>0.0</td>\n",
       "      <td>...</td>\n",
       "      <td>0</td>\n",
       "      <td>0.0</td>\n",
       "      <td>0.0</td>\n",
       "      <td>0.0</td>\n",
       "      <td>0.0</td>\n",
       "      <td>0</td>\n",
       "      <td>0</td>\n",
       "      <td>0.0</td>\n",
       "      <td>0</td>\n",
       "      <td>2016</td>\n",
       "    </tr>\n",
       "    <tr>\n",
       "      <th>4</th>\n",
       "      <td>1</td>\n",
       "      <td>20408.0</td>\n",
       "      <td>5V</td>\n",
       "      <td>5V</td>\n",
       "      <td>Tatonduk Outfitters Limited d/b/a Everts Air A...</td>\n",
       "      <td>1</td>\n",
       "      <td>260848.0</td>\n",
       "      <td>0.0</td>\n",
       "      <td>0.0</td>\n",
       "      <td>0.0</td>\n",
       "      <td>...</td>\n",
       "      <td>522405</td>\n",
       "      <td>0.0</td>\n",
       "      <td>0.0</td>\n",
       "      <td>0.0</td>\n",
       "      <td>0.0</td>\n",
       "      <td>522405</td>\n",
       "      <td>569497</td>\n",
       "      <td>0.0</td>\n",
       "      <td>569497</td>\n",
       "      <td>2016</td>\n",
       "    </tr>\n",
       "  </tbody>\n",
       "</table>\n",
       "<p>5 rows × 25 columns</p>\n",
       "</div>"
      ],
      "text/plain": [
       "   month  airline_id unique_carrier carrier  \\\n",
       "0      1         NaN            NaN     0JQ   \n",
       "1      1     21352.0            0WQ     0WQ   \n",
       "2      1     21645.0            23Q     23Q   \n",
       "3      1     21652.0            27Q     27Q   \n",
       "4      1     20408.0             5V      5V   \n",
       "\n",
       "                                        carrier_name  carrier_group_new  \\\n",
       "0                                                NaN                  1   \n",
       "1                                  Avjet Corporation                  1   \n",
       "2                              Songbird Airways Inc.                  1   \n",
       "3                 Jet Aviation Flight Services, Inc.                  1   \n",
       "4  Tatonduk Outfitters Limited d/b/a Everts Air A...                  1   \n",
       "\n",
       "   sdomt_gallons  satl_gallons  spac_gallons  slat_gallons  ...  sdomt_cost  \\\n",
       "0            0.0           0.0           0.0           0.0  ...           0   \n",
       "1            0.0           0.0           0.0           0.0  ...           0   \n",
       "2            0.0           0.0           0.0           0.0  ...           0   \n",
       "3            0.0           0.0           0.0           0.0  ...           0   \n",
       "4       260848.0           0.0           0.0           0.0  ...      522405   \n",
       "\n",
       "   satl_cost  spac_cost  slat_cost  sint_cost  ts_cost  tdomt_cost  tint_cost  \\\n",
       "0        0.0        0.0        0.0        0.0        0        5100        0.0   \n",
       "1        0.0        0.0        0.0        0.0        0      396216   140239.0   \n",
       "2        0.0        0.0        0.0        0.0        0           0        0.0   \n",
       "3        0.0        0.0        0.0        0.0        0           0        0.0   \n",
       "4        0.0        0.0        0.0        0.0   522405      569497        0.0   \n",
       "\n",
       "   total_cost  year  \n",
       "0        5100  2016  \n",
       "1      536455  2016  \n",
       "2           0  2016  \n",
       "3           0  2016  \n",
       "4      569497  2016  \n",
       "\n",
       "[5 rows x 25 columns]"
      ]
     },
     "execution_count": 7,
     "metadata": {},
     "output_type": "execute_result"
    }
   ],
   "source": [
    "df.head()"
   ]
  },
  {
   "cell_type": "code",
   "execution_count": 8,
   "id": "464d0d6a",
   "metadata": {},
   "outputs": [
    {
     "name": "stdout",
     "output_type": "stream",
     "text": [
      "The dimensions of the dataset are: (3035, 25)\n"
     ]
    }
   ],
   "source": [
    "# 2. Basic data exploration\n",
    "# 2.1 Dimensions of the dataset\n",
    "print('The dimensions of the dataset are:', df.shape)"
   ]
  },
  {
   "cell_type": "code",
   "execution_count": 9,
   "id": "5e7da6e8",
   "metadata": {},
   "outputs": [
    {
     "name": "stdout",
     "output_type": "stream",
     "text": [
      "<class 'pandas.core.frame.DataFrame'>\n",
      "RangeIndex: 3035 entries, 0 to 3034\n",
      "Data columns (total 25 columns):\n",
      " #   Column             Non-Null Count  Dtype  \n",
      "---  ------             --------------  -----  \n",
      " 0   month              3035 non-null   int64  \n",
      " 1   airline_id         3034 non-null   float64\n",
      " 2   unique_carrier     3034 non-null   object \n",
      " 3   carrier            3035 non-null   object \n",
      " 4   carrier_name       3034 non-null   object \n",
      " 5   carrier_group_new  3035 non-null   int64  \n",
      " 6   sdomt_gallons      3034 non-null   float64\n",
      " 7   satl_gallons       3034 non-null   float64\n",
      " 8   spac_gallons       3034 non-null   float64\n",
      " 9   slat_gallons       3033 non-null   float64\n",
      " 10  sint_gallons       3034 non-null   float64\n",
      " 11  ts_gallons         3034 non-null   float64\n",
      " 12  tdomt_gallons      3032 non-null   float64\n",
      " 13  tint_gallons       3034 non-null   float64\n",
      " 14  total_gallons      3029 non-null   float64\n",
      " 15  sdomt_cost         3035 non-null   int64  \n",
      " 16  satl_cost          3034 non-null   float64\n",
      " 17  spac_cost          3034 non-null   float64\n",
      " 18  slat_cost          3034 non-null   float64\n",
      " 19  sint_cost          3034 non-null   float64\n",
      " 20  ts_cost            3035 non-null   int64  \n",
      " 21  tdomt_cost         3035 non-null   int64  \n",
      " 22  tint_cost          3034 non-null   float64\n",
      " 23  total_cost         3035 non-null   int64  \n",
      " 24  year               3035 non-null   int64  \n",
      "dtypes: float64(15), int64(7), object(3)\n",
      "memory usage: 592.9+ KB\n",
      "The data type of each attribute is: None\n"
     ]
    }
   ],
   "source": [
    "# 2.2 Data type of each attribute\n",
    "print('The data type of each attribute is:', df.info())"
   ]
  },
  {
   "cell_type": "code",
   "execution_count": 10,
   "id": "4f5c7048",
   "metadata": {},
   "outputs": [],
   "source": [
    "# Removing rows with null values\n",
    "df= df.dropna()"
   ]
  },
  {
   "cell_type": "code",
   "execution_count": 11,
   "id": "d2ffcc59",
   "metadata": {},
   "outputs": [
    {
     "name": "stdout",
     "output_type": "stream",
     "text": [
      "<class 'pandas.core.frame.DataFrame'>\n",
      "Int64Index: 3025 entries, 1 to 3034\n",
      "Data columns (total 25 columns):\n",
      " #   Column             Non-Null Count  Dtype  \n",
      "---  ------             --------------  -----  \n",
      " 0   month              3025 non-null   int64  \n",
      " 1   airline_id         3025 non-null   float64\n",
      " 2   unique_carrier     3025 non-null   object \n",
      " 3   carrier            3025 non-null   object \n",
      " 4   carrier_name       3025 non-null   object \n",
      " 5   carrier_group_new  3025 non-null   int64  \n",
      " 6   sdomt_gallons      3025 non-null   float64\n",
      " 7   satl_gallons       3025 non-null   float64\n",
      " 8   spac_gallons       3025 non-null   float64\n",
      " 9   slat_gallons       3025 non-null   float64\n",
      " 10  sint_gallons       3025 non-null   float64\n",
      " 11  ts_gallons         3025 non-null   float64\n",
      " 12  tdomt_gallons      3025 non-null   float64\n",
      " 13  tint_gallons       3025 non-null   float64\n",
      " 14  total_gallons      3025 non-null   float64\n",
      " 15  sdomt_cost         3025 non-null   int64  \n",
      " 16  satl_cost          3025 non-null   float64\n",
      " 17  spac_cost          3025 non-null   float64\n",
      " 18  slat_cost          3025 non-null   float64\n",
      " 19  sint_cost          3025 non-null   float64\n",
      " 20  ts_cost            3025 non-null   int64  \n",
      " 21  tdomt_cost         3025 non-null   int64  \n",
      " 22  tint_cost          3025 non-null   float64\n",
      " 23  total_cost         3025 non-null   int64  \n",
      " 24  year               3025 non-null   int64  \n",
      "dtypes: float64(15), int64(7), object(3)\n",
      "memory usage: 614.5+ KB\n"
     ]
    }
   ],
   "source": [
    "df.info()"
   ]
  },
  {
   "cell_type": "code",
   "execution_count": 12,
   "id": "61565240",
   "metadata": {},
   "outputs": [
    {
     "data": {
      "text/plain": [
       "array([2016, 2017, 2015, 2019, 2018], dtype=int64)"
      ]
     },
     "execution_count": 12,
     "metadata": {},
     "output_type": "execute_result"
    }
   ],
   "source": [
    "df['year'].unique()"
   ]
  },
  {
   "cell_type": "code",
   "execution_count": 13,
   "id": "85cb14f3",
   "metadata": {},
   "outputs": [],
   "source": [
    "# Selecting rows for the years 2018 and 2019\n",
    "df = df[(df['year'] == 2018) | (df['year'] == 2019)]"
   ]
  },
  {
   "cell_type": "code",
   "execution_count": 14,
   "id": "e1b18622",
   "metadata": {},
   "outputs": [
    {
     "data": {
      "text/plain": [
       "Index(['month', 'airline_id', 'unique_carrier', 'carrier', 'carrier_name',\n",
       "       'carrier_group_new', 'sdomt_gallons', 'satl_gallons', 'spac_gallons',\n",
       "       'slat_gallons', 'sint_gallons', 'ts_gallons', 'tdomt_gallons',\n",
       "       'tint_gallons', 'total_gallons', 'sdomt_cost', 'satl_cost', 'spac_cost',\n",
       "       'slat_cost', 'sint_cost', 'ts_cost', 'tdomt_cost', 'tint_cost',\n",
       "       'total_cost', 'year'],\n",
       "      dtype='object')"
      ]
     },
     "execution_count": 14,
     "metadata": {},
     "output_type": "execute_result"
    }
   ],
   "source": [
    "df.columns"
   ]
  },
  {
   "cell_type": "code",
   "execution_count": 15,
   "id": "19cf0fe5",
   "metadata": {},
   "outputs": [],
   "source": [
    "df.drop([ 'sdomt_gallons', 'satl_gallons', 'spac_gallons',\n",
    "       'slat_gallons', 'sint_gallons', 'ts_gallons', 'tdomt_gallons',\n",
    "       'tint_gallons', 'sdomt_cost', 'satl_cost', 'spac_cost',\n",
    "       'slat_cost', 'sint_cost', 'ts_cost', 'tdomt_cost', 'tint_cost',\n",
    "       ], axis=1, inplace=True)"
   ]
  },
  {
   "cell_type": "code",
   "execution_count": 16,
   "id": "e1987aae",
   "metadata": {},
   "outputs": [
    {
     "name": "stdout",
     "output_type": "stream",
     "text": [
      "<class 'pandas.core.frame.DataFrame'>\n",
      "Int64Index: 1050 entries, 1977 to 3034\n",
      "Data columns (total 9 columns):\n",
      " #   Column             Non-Null Count  Dtype  \n",
      "---  ------             --------------  -----  \n",
      " 0   month              1050 non-null   int64  \n",
      " 1   airline_id         1050 non-null   float64\n",
      " 2   unique_carrier     1050 non-null   object \n",
      " 3   carrier            1050 non-null   object \n",
      " 4   carrier_name       1050 non-null   object \n",
      " 5   carrier_group_new  1050 non-null   int64  \n",
      " 6   total_gallons      1050 non-null   float64\n",
      " 7   total_cost         1050 non-null   int64  \n",
      " 8   year               1050 non-null   int64  \n",
      "dtypes: float64(2), int64(4), object(3)\n",
      "memory usage: 82.0+ KB\n"
     ]
    }
   ],
   "source": [
    "df.info()"
   ]
  },
  {
   "cell_type": "code",
   "execution_count": 18,
   "id": "fd1f8cad",
   "metadata": {},
   "outputs": [],
   "source": [
    "# Saving the DataFrame as a CSV file\n",
    "df.to_csv('C:/Users/patel/lighthouse-lab-allprojects/Mid-Project-Data/fuel_consumption_clean.csv', index=False)"
   ]
  },
  {
   "cell_type": "code",
   "execution_count": null,
   "id": "6fc682b7",
   "metadata": {},
   "outputs": [],
   "source": []
  }
 ],
 "metadata": {
  "kernelspec": {
   "display_name": "Python 3 (ipykernel)",
   "language": "python",
   "name": "python3"
  },
  "language_info": {
   "codemirror_mode": {
    "name": "ipython",
    "version": 3
   },
   "file_extension": ".py",
   "mimetype": "text/x-python",
   "name": "python",
   "nbconvert_exporter": "python",
   "pygments_lexer": "ipython3",
   "version": "3.10.9"
  }
 },
 "nbformat": 4,
 "nbformat_minor": 5
}
