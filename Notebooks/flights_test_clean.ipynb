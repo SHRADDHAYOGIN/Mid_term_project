{
 "cells": [
  {
   "cell_type": "code",
   "execution_count": 1,
   "id": "bfb28ff3",
   "metadata": {},
   "outputs": [],
   "source": [
    "# imports numpy and pandas\n",
    "import pandas as pd\n",
    "import numpy as np\n"
   ]
  },
  {
   "cell_type": "code",
   "execution_count": 2,
   "id": "2097ee46",
   "metadata": {},
   "outputs": [],
   "source": [
    "# Data Path\n",
    "Data = 'C:/Users/patel/lighthouse-lab-allprojects/Mid-Project-Data/flights_test.csv'"
   ]
  },
  {
   "cell_type": "code",
   "execution_count": 3,
   "id": "54d22705",
   "metadata": {},
   "outputs": [],
   "source": [
    "df = pd.read_csv(Data, low_memory=False)"
   ]
  },
  {
   "cell_type": "code",
   "execution_count": 4,
   "id": "f238814b",
   "metadata": {
    "scrolled": true
   },
   "outputs": [
    {
     "name": "stdout",
     "output_type": "stream",
     "text": [
      "<class 'pandas.core.frame.DataFrame'>\n",
      "RangeIndex: 660556 entries, 0 to 660555\n",
      "Data columns (total 20 columns):\n",
      " #   Column              Non-Null Count   Dtype \n",
      "---  ------              --------------   ----- \n",
      " 0   fl_date             660556 non-null  object\n",
      " 1   mkt_unique_carrier  660556 non-null  object\n",
      " 2   branded_code_share  660556 non-null  object\n",
      " 3   mkt_carrier         660556 non-null  object\n",
      " 4   mkt_carrier_fl_num  660556 non-null  int64 \n",
      " 5   op_unique_carrier   660556 non-null  object\n",
      " 6   tail_num            659057 non-null  object\n",
      " 7   op_carrier_fl_num   660556 non-null  int64 \n",
      " 8   origin_airport_id   660556 non-null  int64 \n",
      " 9   origin              660556 non-null  object\n",
      " 10  origin_city_name    660556 non-null  object\n",
      " 11  dest_airport_id     660556 non-null  int64 \n",
      " 12  dest                660556 non-null  object\n",
      " 13  dest_city_name      660556 non-null  object\n",
      " 14  crs_dep_time        660556 non-null  int64 \n",
      " 15  crs_arr_time        660556 non-null  int64 \n",
      " 16  dup                 660556 non-null  object\n",
      " 17  crs_elapsed_time    660556 non-null  int64 \n",
      " 18  flights             660556 non-null  int64 \n",
      " 19  distance            660556 non-null  int64 \n",
      "dtypes: int64(9), object(11)\n",
      "memory usage: 100.8+ MB\n"
     ]
    }
   ],
   "source": [
    "df.info()"
   ]
  },
  {
   "cell_type": "code",
   "execution_count": 5,
   "id": "e48e4700",
   "metadata": {},
   "outputs": [],
   "source": [
    "df['datetime_column'] = pd.to_datetime(df['fl_date'])\n",
    "df = df[df['datetime_column'].dt.month == 1]"
   ]
  },
  {
   "cell_type": "code",
   "execution_count": 6,
   "id": "b0bf9d5c",
   "metadata": {},
   "outputs": [
    {
     "name": "stdout",
     "output_type": "stream",
     "text": [
      "<class 'pandas.core.frame.DataFrame'>\n",
      "Int64Index: 660556 entries, 0 to 660555\n",
      "Data columns (total 21 columns):\n",
      " #   Column              Non-Null Count   Dtype         \n",
      "---  ------              --------------   -----         \n",
      " 0   fl_date             660556 non-null  object        \n",
      " 1   mkt_unique_carrier  660556 non-null  object        \n",
      " 2   branded_code_share  660556 non-null  object        \n",
      " 3   mkt_carrier         660556 non-null  object        \n",
      " 4   mkt_carrier_fl_num  660556 non-null  int64         \n",
      " 5   op_unique_carrier   660556 non-null  object        \n",
      " 6   tail_num            659057 non-null  object        \n",
      " 7   op_carrier_fl_num   660556 non-null  int64         \n",
      " 8   origin_airport_id   660556 non-null  int64         \n",
      " 9   origin              660556 non-null  object        \n",
      " 10  origin_city_name    660556 non-null  object        \n",
      " 11  dest_airport_id     660556 non-null  int64         \n",
      " 12  dest                660556 non-null  object        \n",
      " 13  dest_city_name      660556 non-null  object        \n",
      " 14  crs_dep_time        660556 non-null  int64         \n",
      " 15  crs_arr_time        660556 non-null  int64         \n",
      " 16  dup                 660556 non-null  object        \n",
      " 17  crs_elapsed_time    660556 non-null  int64         \n",
      " 18  flights             660556 non-null  int64         \n",
      " 19  distance            660556 non-null  int64         \n",
      " 20  datetime_column     660556 non-null  datetime64[ns]\n",
      "dtypes: datetime64[ns](1), int64(9), object(11)\n",
      "memory usage: 110.9+ MB\n"
     ]
    }
   ],
   "source": [
    "df.info()"
   ]
  },
  {
   "cell_type": "code",
   "execution_count": 7,
   "id": "846e2516",
   "metadata": {},
   "outputs": [],
   "source": [
    "# Data Path\n",
    "Data = 'C:/Users/patel/lighthouse-lab-allprojects/Mid-Project-Data/merged1.csv'"
   ]
  },
  {
   "cell_type": "code",
   "execution_count": 8,
   "id": "1cc9b459",
   "metadata": {},
   "outputs": [],
   "source": [
    "MODEL = pd.read_csv(Data, low_memory=False)"
   ]
  },
  {
   "cell_type": "code",
   "execution_count": 9,
   "id": "90981c3d",
   "metadata": {},
   "outputs": [
    {
     "name": "stdout",
     "output_type": "stream",
     "text": [
      "<class 'pandas.core.frame.DataFrame'>\n",
      "RangeIndex: 2974084 entries, 0 to 2974083\n",
      "Data columns (total 67 columns):\n",
      " #   Column                Dtype  \n",
      "---  ------                -----  \n",
      " 0   fl_date               object \n",
      " 1   mkt_unique_carrier    object \n",
      " 2   branded_code_share    object \n",
      " 3   mkt_carrier           object \n",
      " 4   mkt_carrier_fl_num    int64  \n",
      " 5   op_unique_carrier     object \n",
      " 6   tail_num              object \n",
      " 7   op_carrier_fl_num     int64  \n",
      " 8   origin_airport_id     int64  \n",
      " 9   origin_x              object \n",
      " 10  origin_city_name      object \n",
      " 11  dest_airport_id       int64  \n",
      " 12  dest_x                object \n",
      " 13  dest_city_name        object \n",
      " 14  dep_delay             float64\n",
      " 15  taxi_out              float64\n",
      " 16  wheels_off            float64\n",
      " 17  wheels_on             float64\n",
      " 18  taxi_in               float64\n",
      " 19  crs_arr_time          int64  \n",
      " 20  arr_time              float64\n",
      " 21  arr_delay             float64\n",
      " 22  cancelled             int64  \n",
      " 23  cancellation_code     object \n",
      " 24  diverted              int64  \n",
      " 25  dup                   object \n",
      " 26  air_time_x            float64\n",
      " 27  flights               int64  \n",
      " 28  distance              int64  \n",
      " 29  carrier_delay         float64\n",
      " 30  weather_delay         float64\n",
      " 31  nas_delay             float64\n",
      " 32  security_delay        float64\n",
      " 33  late_aircraft_delay   float64\n",
      " 34  Total_delay           float64\n",
      " 35  day                   int64  \n",
      " 36  month                 int64  \n",
      " 37  year                  int64  \n",
      " 38  departures_scheduled  int64  \n",
      " 39  departures_performed  int64  \n",
      " 40  payload               int64  \n",
      " 41  seats                 int64  \n",
      " 42  passengers            int64  \n",
      " 43  freight               int64  \n",
      " 44  mail                  int64  \n",
      " 45  ramp_to_ramp          int64  \n",
      " 46  air_time_y            int64  \n",
      " 47  unique_carrier        object \n",
      " 48  airline_id            int64  \n",
      " 49  region                object \n",
      " 50  carrier               object \n",
      " 51  carrier_name          object \n",
      " 52  carrier_group         int64  \n",
      " 53  carrier_group_new_x   int64  \n",
      " 54  origin_y              object \n",
      " 55  origin_country        object \n",
      " 56  dest_y                object \n",
      " 57  dest_country          object \n",
      " 58  aircraft_group        int64  \n",
      " 59  aircraft_type         int64  \n",
      " 60  aircraft_config       int64  \n",
      " 61  distance_group        int64  \n",
      " 62  class                 object \n",
      " 63  data_source           object \n",
      " 64  carrier_group_new_y   int64  \n",
      " 65  total_gallons         float64\n",
      " 66  total_cost            int64  \n",
      "dtypes: float64(15), int64(30), object(22)\n",
      "memory usage: 1.5+ GB\n"
     ]
    }
   ],
   "source": [
    "MODEL.info()"
   ]
  },
  {
   "cell_type": "code",
   "execution_count": 10,
   "id": "b0473bff",
   "metadata": {},
   "outputs": [],
   "source": [
    "# Merge df1 and df2 vertically\n",
    "df = pd.concat([MODEL, df], ignore_index=True)"
   ]
  },
  {
   "cell_type": "code",
   "execution_count": 11,
   "id": "986c2540",
   "metadata": {},
   "outputs": [
    {
     "name": "stdout",
     "output_type": "stream",
     "text": [
      "<class 'pandas.core.frame.DataFrame'>\n",
      "RangeIndex: 3634640 entries, 0 to 3634639\n",
      "Data columns (total 72 columns):\n",
      " #   Column                Dtype         \n",
      "---  ------                -----         \n",
      " 0   fl_date               object        \n",
      " 1   mkt_unique_carrier    object        \n",
      " 2   branded_code_share    object        \n",
      " 3   mkt_carrier           object        \n",
      " 4   mkt_carrier_fl_num    int64         \n",
      " 5   op_unique_carrier     object        \n",
      " 6   tail_num              object        \n",
      " 7   op_carrier_fl_num     int64         \n",
      " 8   origin_airport_id     int64         \n",
      " 9   origin_x              object        \n",
      " 10  origin_city_name      object        \n",
      " 11  dest_airport_id       int64         \n",
      " 12  dest_x                object        \n",
      " 13  dest_city_name        object        \n",
      " 14  dep_delay             float64       \n",
      " 15  taxi_out              float64       \n",
      " 16  wheels_off            float64       \n",
      " 17  wheels_on             float64       \n",
      " 18  taxi_in               float64       \n",
      " 19  crs_arr_time          int64         \n",
      " 20  arr_time              float64       \n",
      " 21  arr_delay             float64       \n",
      " 22  cancelled             float64       \n",
      " 23  cancellation_code     object        \n",
      " 24  diverted              float64       \n",
      " 25  dup                   object        \n",
      " 26  air_time_x            float64       \n",
      " 27  flights               int64         \n",
      " 28  distance              int64         \n",
      " 29  carrier_delay         float64       \n",
      " 30  weather_delay         float64       \n",
      " 31  nas_delay             float64       \n",
      " 32  security_delay        float64       \n",
      " 33  late_aircraft_delay   float64       \n",
      " 34  Total_delay           float64       \n",
      " 35  day                   float64       \n",
      " 36  month                 float64       \n",
      " 37  year                  float64       \n",
      " 38  departures_scheduled  float64       \n",
      " 39  departures_performed  float64       \n",
      " 40  payload               float64       \n",
      " 41  seats                 float64       \n",
      " 42  passengers            float64       \n",
      " 43  freight               float64       \n",
      " 44  mail                  float64       \n",
      " 45  ramp_to_ramp          float64       \n",
      " 46  air_time_y            float64       \n",
      " 47  unique_carrier        object        \n",
      " 48  airline_id            float64       \n",
      " 49  region                object        \n",
      " 50  carrier               object        \n",
      " 51  carrier_name          object        \n",
      " 52  carrier_group         float64       \n",
      " 53  carrier_group_new_x   float64       \n",
      " 54  origin_y              object        \n",
      " 55  origin_country        object        \n",
      " 56  dest_y                object        \n",
      " 57  dest_country          object        \n",
      " 58  aircraft_group        float64       \n",
      " 59  aircraft_type         float64       \n",
      " 60  aircraft_config       float64       \n",
      " 61  distance_group        float64       \n",
      " 62  class                 object        \n",
      " 63  data_source           object        \n",
      " 64  carrier_group_new_y   float64       \n",
      " 65  total_gallons         float64       \n",
      " 66  total_cost            float64       \n",
      " 67  origin                object        \n",
      " 68  dest                  object        \n",
      " 69  crs_dep_time          float64       \n",
      " 70  crs_elapsed_time      float64       \n",
      " 71  datetime_column       datetime64[ns]\n",
      "dtypes: datetime64[ns](1), float64(40), int64(7), object(24)\n",
      "memory usage: 1.9+ GB\n"
     ]
    }
   ],
   "source": [
    "df.info()"
   ]
  },
  {
   "cell_type": "code",
   "execution_count": 12,
   "id": "a2980f0e",
   "metadata": {},
   "outputs": [],
   "source": [
    "# add column for day of week\n",
    "df['day_of_week'] = pd.to_datetime(df['fl_date']).dt.day_name()"
   ]
  },
  {
   "cell_type": "code",
   "execution_count": 13,
   "id": "dc790a35",
   "metadata": {},
   "outputs": [],
   "source": [
    "# Create a new column with the average dep_delay by origin_city_name, ignoring NaN values\n",
    "df['origin_city_avg_dep_delay'] = df.groupby('origin_city_name')['dep_delay'].transform(lambda x: x.mean(skipna=True))"
   ]
  },
  {
   "cell_type": "code",
   "execution_count": 14,
   "id": "1fb4e08f",
   "metadata": {},
   "outputs": [],
   "source": [
    "# create new column that is the average dep_delay by origin_city_name and 'day_of_week'\n",
    "df['origin_day_week_avg_dep_delay'] = df.groupby(['origin_city_name', 'day_of_week'])['dep_delay'].transform(lambda x: x.mean(skipna=True))"
   ]
  },
  {
   "cell_type": "code",
   "execution_count": 15,
   "id": "9cc29b10",
   "metadata": {},
   "outputs": [],
   "source": [
    "# create new column that is the average arr_delay by dest_city_name and 'day_of_week'\n",
    "df['dest_day_week_avg_arr_delay'] = df.groupby(['dest_city_name', 'day_of_week'])['arr_delay'].transform(lambda x: x.mean(skipna=True))"
   ]
  },
  {
   "cell_type": "code",
   "execution_count": 16,
   "id": "8bad0248",
   "metadata": {},
   "outputs": [],
   "source": [
    "# create new column that is the average arr_delay by dest_city_name\n",
    "df['dest_city_avg_arr_delay'] = df.groupby('dest_city_name')['arr_delay'].transform(lambda x: x.mean(skipna=True))"
   ]
  },
  {
   "cell_type": "code",
   "execution_count": 17,
   "id": "f033be0a",
   "metadata": {},
   "outputs": [],
   "source": [
    "#create new column that is the average arr_delay day_of_week and op_unique_carrier\n",
    "df['op_unique_carrier_day_week_avg_arr_delay'] = df.groupby(['op_unique_carrier', 'day_of_week'])['arr_delay'].transform(lambda x: x.mean(skipna=True))"
   ]
  },
  {
   "cell_type": "code",
   "execution_count": 18,
   "id": "d489bb52",
   "metadata": {},
   "outputs": [
    {
     "data": {
      "text/plain": [
       "Index(['fl_date', 'mkt_unique_carrier', 'branded_code_share', 'mkt_carrier',\n",
       "       'mkt_carrier_fl_num', 'op_unique_carrier', 'tail_num',\n",
       "       'op_carrier_fl_num', 'origin_airport_id', 'origin_x',\n",
       "       'origin_city_name', 'dest_airport_id', 'dest_x', 'dest_city_name',\n",
       "       'dep_delay', 'taxi_out', 'wheels_off', 'wheels_on', 'taxi_in',\n",
       "       'crs_arr_time', 'arr_time', 'arr_delay', 'cancelled',\n",
       "       'cancellation_code', 'diverted', 'dup', 'air_time_x', 'flights',\n",
       "       'distance', 'carrier_delay', 'weather_delay', 'nas_delay',\n",
       "       'security_delay', 'late_aircraft_delay', 'Total_delay', 'day', 'month',\n",
       "       'year', 'departures_scheduled', 'departures_performed', 'payload',\n",
       "       'seats', 'passengers', 'freight', 'mail', 'ramp_to_ramp', 'air_time_y',\n",
       "       'unique_carrier', 'airline_id', 'region', 'carrier', 'carrier_name',\n",
       "       'carrier_group', 'carrier_group_new_x', 'origin_y', 'origin_country',\n",
       "       'dest_y', 'dest_country', 'aircraft_group', 'aircraft_type',\n",
       "       'aircraft_config', 'distance_group', 'class', 'data_source',\n",
       "       'carrier_group_new_y', 'total_gallons', 'total_cost', 'origin', 'dest',\n",
       "       'crs_dep_time', 'crs_elapsed_time', 'datetime_column', 'day_of_week',\n",
       "       'origin_city_avg_dep_delay', 'origin_day_week_avg_dep_delay',\n",
       "       'dest_day_week_avg_arr_delay', 'dest_city_avg_arr_delay',\n",
       "       'op_unique_carrier_day_week_avg_arr_delay'],\n",
       "      dtype='object')"
      ]
     },
     "execution_count": 18,
     "metadata": {},
     "output_type": "execute_result"
    }
   ],
   "source": [
    "df.columns"
   ]
  },
  {
   "cell_type": "code",
   "execution_count": 19,
   "id": "59abf933",
   "metadata": {},
   "outputs": [],
   "source": [
    "df['fl_date'] = pd.to_datetime(df['fl_date'])\n",
    "df['day'] = df['fl_date'].dt.day\n",
    "df['month'] = df['fl_date'].dt.month\n",
    "df['year'] = df['fl_date'].dt.year\n"
   ]
  },
  {
   "cell_type": "code",
   "execution_count": 20,
   "id": "4ceeaf67",
   "metadata": {},
   "outputs": [],
   "source": [
    "import math\n",
    "# Determine the bin size\n",
    "max_distance = df['distance'].max()\n",
    "num_groups = 20\n",
    "bin_size = 500\n",
    "\n",
    "# Function to assign distance group\n",
    "def assign_distance_group(distance):\n",
    "    if distance <= bin_size:\n",
    "        return 1\n",
    "    else:\n",
    "        group = math.ceil(distance / bin_size)\n",
    "        return min(group, num_groups)"
   ]
  },
  {
   "cell_type": "code",
   "execution_count": 21,
   "id": "2178b3aa",
   "metadata": {},
   "outputs": [],
   "source": [
    "# Apply the function to create the 'distance_group' column\n",
    "df['distance_group'] = df['distance'].apply(assign_distance_group)"
   ]
  },
  {
   "cell_type": "code",
   "execution_count": 22,
   "id": "6f3d7300",
   "metadata": {},
   "outputs": [],
   "source": [
    "df['distance_group_airtime_avg'] = df.groupby(['distance_group'])['air_time_x'].transform('mean')"
   ]
  },
  {
   "cell_type": "code",
   "execution_count": 23,
   "id": "7f6af4c0",
   "metadata": {},
   "outputs": [],
   "source": [
    "df['distance_group__day_passenger_avg'] = df.groupby(['distance_group','day'])['passengers'].transform('mean')"
   ]
  },
  {
   "cell_type": "code",
   "execution_count": 24,
   "id": "edd47f7c",
   "metadata": {},
   "outputs": [],
   "source": [
    "df['distance_group_day_payload_avg'] = df.groupby(['distance_group','day'])['payload'].transform('mean')"
   ]
  },
  {
   "cell_type": "code",
   "execution_count": 25,
   "id": "2fd4955b",
   "metadata": {},
   "outputs": [],
   "source": [
    "# Selecting rows for the years 2020\n",
    "df = df[df['year'] == 2020]"
   ]
  },
  {
   "cell_type": "code",
   "execution_count": 26,
   "id": "d2caaa2a",
   "metadata": {},
   "outputs": [],
   "source": [
    "# we can drop 'crs_elapsed_time','actual_elapsed_time','crs_arr_time', 'arr_time', 'crs_dep_time' , 'dep_time'\n",
    "df.drop(['datetime_column'], axis=1, inplace=True)"
   ]
  },
  {
   "cell_type": "code",
   "execution_count": 27,
   "id": "bcaf1678",
   "metadata": {},
   "outputs": [],
   "source": [
    "# Drop columns with zero non-null values\n",
    "df = df.dropna(axis='columns', how='all')"
   ]
  },
  {
   "cell_type": "code",
   "execution_count": 28,
   "id": "b2db8e00",
   "metadata": {},
   "outputs": [],
   "source": [
    "# add column for day of week\n",
    "df['day_of_week'] = pd.to_datetime(df['fl_date']).dt.day_name()"
   ]
  },
  {
   "cell_type": "code",
   "execution_count": 29,
   "id": "e11eb93d",
   "metadata": {},
   "outputs": [],
   "source": [
    "df = df.rename(columns={'day': 'fl_date_day_of_month'})"
   ]
  },
  {
   "cell_type": "code",
   "execution_count": 30,
   "id": "a94530ce",
   "metadata": {},
   "outputs": [
    {
     "data": {
      "text/plain": [
       "Index(['fl_date', 'mkt_unique_carrier', 'branded_code_share', 'mkt_carrier',\n",
       "       'mkt_carrier_fl_num', 'op_unique_carrier', 'tail_num',\n",
       "       'op_carrier_fl_num', 'origin_airport_id', 'origin_city_name',\n",
       "       'dest_airport_id', 'dest_city_name', 'crs_arr_time', 'dup', 'flights',\n",
       "       'distance', 'fl_date_day_of_month', 'month', 'year', 'distance_group',\n",
       "       'origin', 'dest', 'crs_dep_time', 'crs_elapsed_time', 'day_of_week',\n",
       "       'origin_city_avg_dep_delay', 'origin_day_week_avg_dep_delay',\n",
       "       'dest_day_week_avg_arr_delay', 'dest_city_avg_arr_delay',\n",
       "       'op_unique_carrier_day_week_avg_arr_delay',\n",
       "       'distance_group_airtime_avg', 'distance_group__day_passenger_avg',\n",
       "       'distance_group_day_payload_avg'],\n",
       "      dtype='object')"
      ]
     },
     "execution_count": 30,
     "metadata": {},
     "output_type": "execute_result"
    }
   ],
   "source": [
    "df.columns"
   ]
  },
  {
   "cell_type": "code",
   "execution_count": 31,
   "id": "9f2844df",
   "metadata": {},
   "outputs": [],
   "source": [
    "columns = ['mkt_unique_carrier', 'branded_code_share', \n",
    "        'tail_num',\n",
    "       'op_carrier_fl_num', 'origin_airport_id', 'origin_city_name',\n",
    "       'dest_airport_id',  'dest_city_name', 'dup',\n",
    "       'flights', 'distance',  'month', 'year',\n",
    "       'crs_dep_time', 'crs_elapsed_time', \n",
    "       ]"
   ]
  },
  {
   "cell_type": "code",
   "execution_count": 32,
   "id": "19415c0c",
   "metadata": {},
   "outputs": [],
   "source": [
    "df = df.drop(columns=columns)"
   ]
  },
  {
   "cell_type": "code",
   "execution_count": 33,
   "id": "cbbdde0b",
   "metadata": {},
   "outputs": [
    {
     "name": "stdout",
     "output_type": "stream",
     "text": [
      "<class 'pandas.core.frame.DataFrame'>\n",
      "Int64Index: 660556 entries, 2974084 to 3634639\n",
      "Data columns (total 18 columns):\n",
      " #   Column                                    Non-Null Count   Dtype         \n",
      "---  ------                                    --------------   -----         \n",
      " 0   fl_date                                   660556 non-null  datetime64[ns]\n",
      " 1   mkt_carrier                               660556 non-null  object        \n",
      " 2   mkt_carrier_fl_num                        660556 non-null  int64         \n",
      " 3   op_unique_carrier                         660556 non-null  object        \n",
      " 4   crs_arr_time                              660556 non-null  int64         \n",
      " 5   fl_date_day_of_month                      660556 non-null  int64         \n",
      " 6   distance_group                            660556 non-null  int64         \n",
      " 7   origin                                    660556 non-null  object        \n",
      " 8   dest                                      660556 non-null  object        \n",
      " 9   day_of_week                               660556 non-null  object        \n",
      " 10  origin_city_avg_dep_delay                 658728 non-null  float64       \n",
      " 11  origin_day_week_avg_dep_delay             658676 non-null  float64       \n",
      " 12  dest_day_week_avg_arr_delay               658669 non-null  float64       \n",
      " 13  dest_city_avg_arr_delay                   658726 non-null  float64       \n",
      " 14  op_unique_carrier_day_week_avg_arr_delay  629215 non-null  float64       \n",
      " 15  distance_group_airtime_avg                660513 non-null  float64       \n",
      " 16  distance_group__day_passenger_avg         660513 non-null  float64       \n",
      " 17  distance_group_day_payload_avg            660513 non-null  float64       \n",
      "dtypes: datetime64[ns](1), float64(8), int64(4), object(5)\n",
      "memory usage: 95.8+ MB\n"
     ]
    }
   ],
   "source": [
    "df.info()"
   ]
  },
  {
   "cell_type": "code",
   "execution_count": 34,
   "id": "c8f8a9f3",
   "metadata": {},
   "outputs": [],
   "source": [
    "# Drop rows containing NaN values\n",
    "df = df.dropna()"
   ]
  },
  {
   "cell_type": "code",
   "execution_count": 35,
   "id": "7a7df247",
   "metadata": {},
   "outputs": [
    {
     "name": "stdout",
     "output_type": "stream",
     "text": [
      "<class 'pandas.core.frame.DataFrame'>\n",
      "Int64Index: 627311 entries, 2974084 to 3634639\n",
      "Data columns (total 18 columns):\n",
      " #   Column                                    Non-Null Count   Dtype         \n",
      "---  ------                                    --------------   -----         \n",
      " 0   fl_date                                   627311 non-null  datetime64[ns]\n",
      " 1   mkt_carrier                               627311 non-null  object        \n",
      " 2   mkt_carrier_fl_num                        627311 non-null  int64         \n",
      " 3   op_unique_carrier                         627311 non-null  object        \n",
      " 4   crs_arr_time                              627311 non-null  int64         \n",
      " 5   fl_date_day_of_month                      627311 non-null  int64         \n",
      " 6   distance_group                            627311 non-null  int64         \n",
      " 7   origin                                    627311 non-null  object        \n",
      " 8   dest                                      627311 non-null  object        \n",
      " 9   day_of_week                               627311 non-null  object        \n",
      " 10  origin_city_avg_dep_delay                 627311 non-null  float64       \n",
      " 11  origin_day_week_avg_dep_delay             627311 non-null  float64       \n",
      " 12  dest_day_week_avg_arr_delay               627311 non-null  float64       \n",
      " 13  dest_city_avg_arr_delay                   627311 non-null  float64       \n",
      " 14  op_unique_carrier_day_week_avg_arr_delay  627311 non-null  float64       \n",
      " 15  distance_group_airtime_avg                627311 non-null  float64       \n",
      " 16  distance_group__day_passenger_avg         627311 non-null  float64       \n",
      " 17  distance_group_day_payload_avg            627311 non-null  float64       \n",
      "dtypes: datetime64[ns](1), float64(8), int64(4), object(5)\n",
      "memory usage: 90.9+ MB\n"
     ]
    }
   ],
   "source": [
    "df.info()"
   ]
  },
  {
   "cell_type": "code",
   "execution_count": 36,
   "id": "d9517834",
   "metadata": {},
   "outputs": [],
   "source": [
    "# Saving the DataFrame as a CSV file\n",
    "df.to_csv('C:/Users/patel/lighthouse-lab-allprojects/Mid-Project-Data/Flights_test_clean_final.csv', index=False)"
   ]
  },
  {
   "cell_type": "code",
   "execution_count": null,
   "id": "8a2e7d56",
   "metadata": {},
   "outputs": [],
   "source": []
  }
 ],
 "metadata": {
  "kernelspec": {
   "display_name": "Python 3 (ipykernel)",
   "language": "python",
   "name": "python3"
  },
  "language_info": {
   "codemirror_mode": {
    "name": "ipython",
    "version": 3
   },
   "file_extension": ".py",
   "mimetype": "text/x-python",
   "name": "python",
   "nbconvert_exporter": "python",
   "pygments_lexer": "ipython3",
   "version": "3.10.9"
  }
 },
 "nbformat": 4,
 "nbformat_minor": 5
}
