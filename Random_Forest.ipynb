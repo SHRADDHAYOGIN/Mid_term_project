{
 "cells": [
  {
   "attachments": {},
   "cell_type": "markdown",
   "metadata": {},
   "source": [
    "# **Random Forest Classifier**"
   ]
  },
  {
   "cell_type": "code",
   "execution_count": 1,
   "metadata": {},
   "outputs": [],
   "source": [
    "import numpy as np # linear algebra\n",
    "import pandas as pd # data processing, CSV file I/O (e.g. pd.read_csv)\n",
    "import matplotlib.pyplot as plt # data visualization\n",
    "import seaborn as sns # statistical data visualization\n",
    "%matplotlib inline\n",
    "import warnings\n",
    "warnings.filterwarnings('ignore')\n",
    "\n",
    "import os\n",
    "import os.path"
   ]
  },
  {
   "cell_type": "code",
   "execution_count": 2,
   "metadata": {},
   "outputs": [],
   "source": [
    "import modules.save_model as save"
   ]
  },
  {
   "cell_type": "code",
   "execution_count": 3,
   "metadata": {},
   "outputs": [],
   "source": [
    "data = 'Datasets/Model_Final.csv'"
   ]
  },
  {
   "cell_type": "code",
   "execution_count": 4,
   "metadata": {},
   "outputs": [],
   "source": [
    "df = pd.read_csv(data)"
   ]
  },
  {
   "cell_type": "code",
   "execution_count": 5,
   "metadata": {},
   "outputs": [
    {
     "data": {
      "text/plain": [
       "(22674, 10)"
      ]
     },
     "execution_count": 5,
     "metadata": {},
     "output_type": "execute_result"
    }
   ],
   "source": [
    "df.shape"
   ]
  },
  {
   "cell_type": "code",
   "execution_count": 6,
   "metadata": {},
   "outputs": [
    {
     "data": {
      "text/html": [
       "<div>\n",
       "<style scoped>\n",
       "    .dataframe tbody tr th:only-of-type {\n",
       "        vertical-align: middle;\n",
       "    }\n",
       "\n",
       "    .dataframe tbody tr th {\n",
       "        vertical-align: top;\n",
       "    }\n",
       "\n",
       "    .dataframe thead th {\n",
       "        text-align: right;\n",
       "    }\n",
       "</style>\n",
       "<table border=\"1\" class=\"dataframe\">\n",
       "  <thead>\n",
       "    <tr style=\"text-align: right;\">\n",
       "      <th></th>\n",
       "      <th>arr_delay</th>\n",
       "      <th>crs_arr_time</th>\n",
       "      <th>fl_date_day_of_month</th>\n",
       "      <th>day_of_week</th>\n",
       "      <th>origin_city_avg_dep_delay</th>\n",
       "      <th>origin_day_week_avg_dep_delay</th>\n",
       "      <th>dest_day_week_avg_arr_delay</th>\n",
       "      <th>dest_city_avg_arr_delay</th>\n",
       "      <th>op_unique_carrier_day_week_avg_arr_delay</th>\n",
       "      <th>distance_group</th>\n",
       "    </tr>\n",
       "  </thead>\n",
       "  <tbody>\n",
       "    <tr>\n",
       "      <th>0</th>\n",
       "      <td>40.0</td>\n",
       "      <td>1305</td>\n",
       "      <td>1</td>\n",
       "      <td>Monday</td>\n",
       "      <td>8.405941</td>\n",
       "      <td>31.363636</td>\n",
       "      <td>-8.50000</td>\n",
       "      <td>1.142857</td>\n",
       "      <td>1.444444</td>\n",
       "      <td>5</td>\n",
       "    </tr>\n",
       "    <tr>\n",
       "      <th>1</th>\n",
       "      <td>-38.0</td>\n",
       "      <td>1305</td>\n",
       "      <td>8</td>\n",
       "      <td>Monday</td>\n",
       "      <td>8.405941</td>\n",
       "      <td>31.363636</td>\n",
       "      <td>-8.50000</td>\n",
       "      <td>1.142857</td>\n",
       "      <td>1.444444</td>\n",
       "      <td>5</td>\n",
       "    </tr>\n",
       "    <tr>\n",
       "      <th>2</th>\n",
       "      <td>-3.0</td>\n",
       "      <td>2330</td>\n",
       "      <td>11</td>\n",
       "      <td>Thursday</td>\n",
       "      <td>3.479452</td>\n",
       "      <td>-4.307692</td>\n",
       "      <td>13.27907</td>\n",
       "      <td>-1.692182</td>\n",
       "      <td>-3.400000</td>\n",
       "      <td>6</td>\n",
       "    </tr>\n",
       "    <tr>\n",
       "      <th>3</th>\n",
       "      <td>-1.0</td>\n",
       "      <td>500</td>\n",
       "      <td>13</td>\n",
       "      <td>Saturday</td>\n",
       "      <td>3.479452</td>\n",
       "      <td>9.750000</td>\n",
       "      <td>-9.48750</td>\n",
       "      <td>-1.692182</td>\n",
       "      <td>14.000000</td>\n",
       "      <td>6</td>\n",
       "    </tr>\n",
       "    <tr>\n",
       "      <th>4</th>\n",
       "      <td>10.0</td>\n",
       "      <td>2115</td>\n",
       "      <td>22</td>\n",
       "      <td>Monday</td>\n",
       "      <td>9.440860</td>\n",
       "      <td>9.356322</td>\n",
       "      <td>-8.50000</td>\n",
       "      <td>1.142857</td>\n",
       "      <td>1.444444</td>\n",
       "      <td>6</td>\n",
       "    </tr>\n",
       "  </tbody>\n",
       "</table>\n",
       "</div>"
      ],
      "text/plain": [
       "   arr_delay  crs_arr_time  fl_date_day_of_month day_of_week  \\\n",
       "0       40.0          1305                     1      Monday   \n",
       "1      -38.0          1305                     8      Monday   \n",
       "2       -3.0          2330                    11    Thursday   \n",
       "3       -1.0           500                    13    Saturday   \n",
       "4       10.0          2115                    22      Monday   \n",
       "\n",
       "   origin_city_avg_dep_delay  origin_day_week_avg_dep_delay  \\\n",
       "0                   8.405941                      31.363636   \n",
       "1                   8.405941                      31.363636   \n",
       "2                   3.479452                      -4.307692   \n",
       "3                   3.479452                       9.750000   \n",
       "4                   9.440860                       9.356322   \n",
       "\n",
       "   dest_day_week_avg_arr_delay  dest_city_avg_arr_delay  \\\n",
       "0                     -8.50000                 1.142857   \n",
       "1                     -8.50000                 1.142857   \n",
       "2                     13.27907                -1.692182   \n",
       "3                     -9.48750                -1.692182   \n",
       "4                     -8.50000                 1.142857   \n",
       "\n",
       "   op_unique_carrier_day_week_avg_arr_delay  distance_group  \n",
       "0                                  1.444444               5  \n",
       "1                                  1.444444               5  \n",
       "2                                 -3.400000               6  \n",
       "3                                 14.000000               6  \n",
       "4                                  1.444444               6  "
      ]
     },
     "execution_count": 6,
     "metadata": {},
     "output_type": "execute_result"
    }
   ],
   "source": [
    "df.head()"
   ]
  },
  {
   "cell_type": "code",
   "execution_count": 7,
   "metadata": {},
   "outputs": [],
   "source": [
    "X = df.drop(['arr_delay', 'day_of_week', 'distance_group', 'fl_date_day_of_month'], axis=1)\n",
    "y = df['arr_delay']"
   ]
  },
  {
   "cell_type": "code",
   "execution_count": null,
   "metadata": {},
   "outputs": [],
   "source": []
  },
  {
   "cell_type": "code",
   "execution_count": 8,
   "metadata": {},
   "outputs": [
    {
     "data": {
      "text/html": [
       "<div>\n",
       "<style scoped>\n",
       "    .dataframe tbody tr th:only-of-type {\n",
       "        vertical-align: middle;\n",
       "    }\n",
       "\n",
       "    .dataframe tbody tr th {\n",
       "        vertical-align: top;\n",
       "    }\n",
       "\n",
       "    .dataframe thead th {\n",
       "        text-align: right;\n",
       "    }\n",
       "</style>\n",
       "<table border=\"1\" class=\"dataframe\">\n",
       "  <thead>\n",
       "    <tr style=\"text-align: right;\">\n",
       "      <th></th>\n",
       "      <th>crs_arr_time</th>\n",
       "      <th>origin_city_avg_dep_delay</th>\n",
       "      <th>origin_day_week_avg_dep_delay</th>\n",
       "      <th>dest_day_week_avg_arr_delay</th>\n",
       "      <th>dest_city_avg_arr_delay</th>\n",
       "      <th>op_unique_carrier_day_week_avg_arr_delay</th>\n",
       "    </tr>\n",
       "  </thead>\n",
       "  <tbody>\n",
       "    <tr>\n",
       "      <th>0</th>\n",
       "      <td>1305</td>\n",
       "      <td>8.405941</td>\n",
       "      <td>31.363636</td>\n",
       "      <td>-8.50000</td>\n",
       "      <td>1.142857</td>\n",
       "      <td>1.444444</td>\n",
       "    </tr>\n",
       "    <tr>\n",
       "      <th>1</th>\n",
       "      <td>1305</td>\n",
       "      <td>8.405941</td>\n",
       "      <td>31.363636</td>\n",
       "      <td>-8.50000</td>\n",
       "      <td>1.142857</td>\n",
       "      <td>1.444444</td>\n",
       "    </tr>\n",
       "    <tr>\n",
       "      <th>2</th>\n",
       "      <td>2330</td>\n",
       "      <td>3.479452</td>\n",
       "      <td>-4.307692</td>\n",
       "      <td>13.27907</td>\n",
       "      <td>-1.692182</td>\n",
       "      <td>-3.400000</td>\n",
       "    </tr>\n",
       "    <tr>\n",
       "      <th>3</th>\n",
       "      <td>500</td>\n",
       "      <td>3.479452</td>\n",
       "      <td>9.750000</td>\n",
       "      <td>-9.48750</td>\n",
       "      <td>-1.692182</td>\n",
       "      <td>14.000000</td>\n",
       "    </tr>\n",
       "    <tr>\n",
       "      <th>4</th>\n",
       "      <td>2115</td>\n",
       "      <td>9.440860</td>\n",
       "      <td>9.356322</td>\n",
       "      <td>-8.50000</td>\n",
       "      <td>1.142857</td>\n",
       "      <td>1.444444</td>\n",
       "    </tr>\n",
       "  </tbody>\n",
       "</table>\n",
       "</div>"
      ],
      "text/plain": [
       "   crs_arr_time  origin_city_avg_dep_delay  origin_day_week_avg_dep_delay  \\\n",
       "0          1305                   8.405941                      31.363636   \n",
       "1          1305                   8.405941                      31.363636   \n",
       "2          2330                   3.479452                      -4.307692   \n",
       "3           500                   3.479452                       9.750000   \n",
       "4          2115                   9.440860                       9.356322   \n",
       "\n",
       "   dest_day_week_avg_arr_delay  dest_city_avg_arr_delay  \\\n",
       "0                     -8.50000                 1.142857   \n",
       "1                     -8.50000                 1.142857   \n",
       "2                     13.27907                -1.692182   \n",
       "3                     -9.48750                -1.692182   \n",
       "4                     -8.50000                 1.142857   \n",
       "\n",
       "   op_unique_carrier_day_week_avg_arr_delay  \n",
       "0                                  1.444444  \n",
       "1                                  1.444444  \n",
       "2                                 -3.400000  \n",
       "3                                 14.000000  \n",
       "4                                  1.444444  "
      ]
     },
     "execution_count": 8,
     "metadata": {},
     "output_type": "execute_result"
    }
   ],
   "source": [
    "X.head()"
   ]
  },
  {
   "cell_type": "code",
   "execution_count": null,
   "metadata": {},
   "outputs": [],
   "source": []
  },
  {
   "attachments": {},
   "cell_type": "markdown",
   "metadata": {},
   "source": [
    "### Split the data into train and test sets"
   ]
  },
  {
   "cell_type": "code",
   "execution_count": 9,
   "metadata": {},
   "outputs": [],
   "source": [
    "from sklearn.model_selection import train_test_split\n",
    "X_train, X_test, y_train, y_test = train_test_split(X, y, test_size = 0.33, random_state = 42)"
   ]
  },
  {
   "cell_type": "code",
   "execution_count": 10,
   "metadata": {},
   "outputs": [],
   "source": [
    "# scale data using StandardScaler\n",
    "from sklearn.preprocessing import StandardScaler\n",
    "scaler = StandardScaler()\n",
    "X_train = scaler.fit_transform(X_train)\n",
    "X_test = scaler.transform(X_test)\n",
    "\n",
    "y_train = scaler.fit_transform(y_train.values.reshape(-1, 1))\n",
    "y_test = scaler.transform(y_test.values.reshape(-1, 1))\n"
   ]
  },
  {
   "cell_type": "code",
   "execution_count": 11,
   "metadata": {},
   "outputs": [
    {
     "data": {
      "text/plain": [
       "(15191, 6)"
      ]
     },
     "execution_count": 11,
     "metadata": {},
     "output_type": "execute_result"
    }
   ],
   "source": [
    "X_train.shape"
   ]
  },
  {
   "cell_type": "code",
   "execution_count": 12,
   "metadata": {},
   "outputs": [],
   "source": [
    "from sklearn.tree import DecisionTreeRegressor\n",
    "from sklearn.ensemble import RandomForestRegressor\n",
    "from sklearn.model_selection import train_test_split\n",
    "from sklearn.preprocessing import MinMaxScaler\n",
    "\n",
    "from sklearn.preprocessing import OneHotEncoder\n",
    "from sklearn.preprocessing import OrdinalEncoder\n",
    "from sklearn.metrics import mean_squared_error\n",
    "from sklearn.metrics import r2_score\n",
    "from sklearn.metrics import mean_absolute_error\n",
    "from sklearn.metrics import accuracy_score"
   ]
  },
  {
   "cell_type": "code",
   "execution_count": 13,
   "metadata": {},
   "outputs": [],
   "source": [
    "def random_forest(X_train, X_test, y_train, y_test, random_state=99):\n",
    "    '''Returns a tuple of random forest regressor object and a prediction array of the test data.'''\n",
    "    \n",
    "    rand_for = RandomForestRegressor(max_depth=100, min_samples_split=3, min_samples_leaf=3)\n",
    "    rand_for.fit(X_train, y_train)\n",
    "    y_pred = rand_for.predict(X_test)\n",
    "    accuracy_score = rand_for.score(X_test, y_test)\n",
    "    \n",
    "    print('R2 Score: {0:0.4f}'.format(r2_score(y_test, y_pred)))\n",
    "    print('MAE: {0:0.4f}'.format(mean_absolute_error(y_test, y_pred)))\n",
    "    print('Accuracy score on test data:', accuracy_score)\n",
    "    \n",
    "    return rand_for, y_pred"
   ]
  },
  {
   "cell_type": "code",
   "execution_count": 14,
   "metadata": {},
   "outputs": [
    {
     "name": "stdout",
     "output_type": "stream",
     "text": [
      "R2 Score: 0.1186\n",
      "MAE: 0.4392\n",
      "Accuracy score on test data: 0.1185537158597707\n"
     ]
    }
   ],
   "source": [
    "tree, y_pred = random_forest(X_train, X_test, y_train, y_test)"
   ]
  },
  {
   "attachments": {},
   "cell_type": "markdown",
   "metadata": {},
   "source": [
    "\n",
    "**R2 - Coefficient of Determination is 0.1186.**\\\n",
    "`The goodness of fit of a set of predictions to the actual values. The value ranges between 0 and 1 for no fit (0) and perfect fit (1).`\\\n",
    "**MAE - Mean Absolute Error is 0.439**\\\n",
    " `Got about 0.43% of test data wrong.`"
   ]
  },
  {
   "cell_type": "code",
   "execution_count": 15,
   "metadata": {},
   "outputs": [],
   "source": [
    "# save model\n",
    "save.jar(tree, 'random_forest_regressor')"
   ]
  },
  {
   "cell_type": "code",
   "execution_count": 16,
   "metadata": {},
   "outputs": [
    {
     "data": {
      "text/html": [
       "<div>\n",
       "<style scoped>\n",
       "    .dataframe tbody tr th:only-of-type {\n",
       "        vertical-align: middle;\n",
       "    }\n",
       "\n",
       "    .dataframe tbody tr th {\n",
       "        vertical-align: top;\n",
       "    }\n",
       "\n",
       "    .dataframe thead th {\n",
       "        text-align: right;\n",
       "    }\n",
       "</style>\n",
       "<table border=\"1\" class=\"dataframe\">\n",
       "  <thead>\n",
       "    <tr style=\"text-align: right;\">\n",
       "      <th></th>\n",
       "      <th>arr_delay</th>\n",
       "      <th>crs_arr_time</th>\n",
       "      <th>fl_date_day_of_month</th>\n",
       "      <th>day_of_week</th>\n",
       "      <th>origin_city_avg_dep_delay</th>\n",
       "      <th>origin_day_week_avg_dep_delay</th>\n",
       "      <th>dest_day_week_avg_arr_delay</th>\n",
       "      <th>dest_city_avg_arr_delay</th>\n",
       "      <th>op_unique_carrier_day_week_avg_arr_delay</th>\n",
       "      <th>distance_group</th>\n",
       "    </tr>\n",
       "  </thead>\n",
       "  <tbody>\n",
       "    <tr>\n",
       "      <th>0</th>\n",
       "      <td>40.0</td>\n",
       "      <td>1305</td>\n",
       "      <td>1</td>\n",
       "      <td>Monday</td>\n",
       "      <td>8.405941</td>\n",
       "      <td>31.363636</td>\n",
       "      <td>-8.50000</td>\n",
       "      <td>1.142857</td>\n",
       "      <td>1.444444</td>\n",
       "      <td>5</td>\n",
       "    </tr>\n",
       "    <tr>\n",
       "      <th>1</th>\n",
       "      <td>-38.0</td>\n",
       "      <td>1305</td>\n",
       "      <td>8</td>\n",
       "      <td>Monday</td>\n",
       "      <td>8.405941</td>\n",
       "      <td>31.363636</td>\n",
       "      <td>-8.50000</td>\n",
       "      <td>1.142857</td>\n",
       "      <td>1.444444</td>\n",
       "      <td>5</td>\n",
       "    </tr>\n",
       "    <tr>\n",
       "      <th>2</th>\n",
       "      <td>-3.0</td>\n",
       "      <td>2330</td>\n",
       "      <td>11</td>\n",
       "      <td>Thursday</td>\n",
       "      <td>3.479452</td>\n",
       "      <td>-4.307692</td>\n",
       "      <td>13.27907</td>\n",
       "      <td>-1.692182</td>\n",
       "      <td>-3.400000</td>\n",
       "      <td>6</td>\n",
       "    </tr>\n",
       "    <tr>\n",
       "      <th>3</th>\n",
       "      <td>-1.0</td>\n",
       "      <td>500</td>\n",
       "      <td>13</td>\n",
       "      <td>Saturday</td>\n",
       "      <td>3.479452</td>\n",
       "      <td>9.750000</td>\n",
       "      <td>-9.48750</td>\n",
       "      <td>-1.692182</td>\n",
       "      <td>14.000000</td>\n",
       "      <td>6</td>\n",
       "    </tr>\n",
       "    <tr>\n",
       "      <th>4</th>\n",
       "      <td>10.0</td>\n",
       "      <td>2115</td>\n",
       "      <td>22</td>\n",
       "      <td>Monday</td>\n",
       "      <td>9.440860</td>\n",
       "      <td>9.356322</td>\n",
       "      <td>-8.50000</td>\n",
       "      <td>1.142857</td>\n",
       "      <td>1.444444</td>\n",
       "      <td>6</td>\n",
       "    </tr>\n",
       "  </tbody>\n",
       "</table>\n",
       "</div>"
      ],
      "text/plain": [
       "   arr_delay  crs_arr_time  fl_date_day_of_month day_of_week  \\\n",
       "0       40.0          1305                     1      Monday   \n",
       "1      -38.0          1305                     8      Monday   \n",
       "2       -3.0          2330                    11    Thursday   \n",
       "3       -1.0           500                    13    Saturday   \n",
       "4       10.0          2115                    22      Monday   \n",
       "\n",
       "   origin_city_avg_dep_delay  origin_day_week_avg_dep_delay  \\\n",
       "0                   8.405941                      31.363636   \n",
       "1                   8.405941                      31.363636   \n",
       "2                   3.479452                      -4.307692   \n",
       "3                   3.479452                       9.750000   \n",
       "4                   9.440860                       9.356322   \n",
       "\n",
       "   dest_day_week_avg_arr_delay  dest_city_avg_arr_delay  \\\n",
       "0                     -8.50000                 1.142857   \n",
       "1                     -8.50000                 1.142857   \n",
       "2                     13.27907                -1.692182   \n",
       "3                     -9.48750                -1.692182   \n",
       "4                     -8.50000                 1.142857   \n",
       "\n",
       "   op_unique_carrier_day_week_avg_arr_delay  distance_group  \n",
       "0                                  1.444444               5  \n",
       "1                                  1.444444               5  \n",
       "2                                 -3.400000               6  \n",
       "3                                 14.000000               6  \n",
       "4                                  1.444444               6  "
      ]
     },
     "execution_count": 16,
     "metadata": {},
     "output_type": "execute_result"
    }
   ],
   "source": [
    "df.head()"
   ]
  },
  {
   "cell_type": "code",
   "execution_count": 17,
   "metadata": {},
   "outputs": [],
   "source": [
    "# add column of delayed to df with values 'delayed' = arr_delay less than 0, 'not delayed' = arr_delay greater than or equal to 0\n",
    "df['delayed'] = np.where(df['arr_delay'] < 0, 'delayed', 'not delayed')\n",
    "\n"
   ]
  },
  {
   "cell_type": "code",
   "execution_count": 37,
   "metadata": {},
   "outputs": [],
   "source": [
    "X = df.drop(['arr_delay', 'day_of_week', 'distance_group', 'delayed'], axis=1)\n",
    "y = df['delayed']"
   ]
  },
  {
   "cell_type": "code",
   "execution_count": 39,
   "metadata": {},
   "outputs": [
    {
     "data": {
      "text/html": [
       "<div>\n",
       "<style scoped>\n",
       "    .dataframe tbody tr th:only-of-type {\n",
       "        vertical-align: middle;\n",
       "    }\n",
       "\n",
       "    .dataframe tbody tr th {\n",
       "        vertical-align: top;\n",
       "    }\n",
       "\n",
       "    .dataframe thead th {\n",
       "        text-align: right;\n",
       "    }\n",
       "</style>\n",
       "<table border=\"1\" class=\"dataframe\">\n",
       "  <thead>\n",
       "    <tr style=\"text-align: right;\">\n",
       "      <th></th>\n",
       "      <th>crs_arr_time</th>\n",
       "      <th>fl_date_day_of_month</th>\n",
       "      <th>origin_city_avg_dep_delay</th>\n",
       "      <th>origin_day_week_avg_dep_delay</th>\n",
       "      <th>dest_day_week_avg_arr_delay</th>\n",
       "      <th>dest_city_avg_arr_delay</th>\n",
       "      <th>op_unique_carrier_day_week_avg_arr_delay</th>\n",
       "    </tr>\n",
       "  </thead>\n",
       "  <tbody>\n",
       "    <tr>\n",
       "      <th>0</th>\n",
       "      <td>1305</td>\n",
       "      <td>1</td>\n",
       "      <td>8.405941</td>\n",
       "      <td>31.363636</td>\n",
       "      <td>-8.50000</td>\n",
       "      <td>1.142857</td>\n",
       "      <td>1.444444</td>\n",
       "    </tr>\n",
       "    <tr>\n",
       "      <th>1</th>\n",
       "      <td>1305</td>\n",
       "      <td>8</td>\n",
       "      <td>8.405941</td>\n",
       "      <td>31.363636</td>\n",
       "      <td>-8.50000</td>\n",
       "      <td>1.142857</td>\n",
       "      <td>1.444444</td>\n",
       "    </tr>\n",
       "    <tr>\n",
       "      <th>2</th>\n",
       "      <td>2330</td>\n",
       "      <td>11</td>\n",
       "      <td>3.479452</td>\n",
       "      <td>-4.307692</td>\n",
       "      <td>13.27907</td>\n",
       "      <td>-1.692182</td>\n",
       "      <td>-3.400000</td>\n",
       "    </tr>\n",
       "    <tr>\n",
       "      <th>3</th>\n",
       "      <td>500</td>\n",
       "      <td>13</td>\n",
       "      <td>3.479452</td>\n",
       "      <td>9.750000</td>\n",
       "      <td>-9.48750</td>\n",
       "      <td>-1.692182</td>\n",
       "      <td>14.000000</td>\n",
       "    </tr>\n",
       "    <tr>\n",
       "      <th>4</th>\n",
       "      <td>2115</td>\n",
       "      <td>22</td>\n",
       "      <td>9.440860</td>\n",
       "      <td>9.356322</td>\n",
       "      <td>-8.50000</td>\n",
       "      <td>1.142857</td>\n",
       "      <td>1.444444</td>\n",
       "    </tr>\n",
       "  </tbody>\n",
       "</table>\n",
       "</div>"
      ],
      "text/plain": [
       "   crs_arr_time  fl_date_day_of_month  origin_city_avg_dep_delay  \\\n",
       "0          1305                     1                   8.405941   \n",
       "1          1305                     8                   8.405941   \n",
       "2          2330                    11                   3.479452   \n",
       "3           500                    13                   3.479452   \n",
       "4          2115                    22                   9.440860   \n",
       "\n",
       "   origin_day_week_avg_dep_delay  dest_day_week_avg_arr_delay  \\\n",
       "0                      31.363636                     -8.50000   \n",
       "1                      31.363636                     -8.50000   \n",
       "2                      -4.307692                     13.27907   \n",
       "3                       9.750000                     -9.48750   \n",
       "4                       9.356322                     -8.50000   \n",
       "\n",
       "   dest_city_avg_arr_delay  op_unique_carrier_day_week_avg_arr_delay  \n",
       "0                 1.142857                                  1.444444  \n",
       "1                 1.142857                                  1.444444  \n",
       "2                -1.692182                                 -3.400000  \n",
       "3                -1.692182                                 14.000000  \n",
       "4                 1.142857                                  1.444444  "
      ]
     },
     "execution_count": 39,
     "metadata": {},
     "output_type": "execute_result"
    }
   ],
   "source": [
    "X.head()"
   ]
  },
  {
   "cell_type": "code",
   "execution_count": 40,
   "metadata": {},
   "outputs": [],
   "source": [
    "from sklearn.model_selection import train_test_split\n",
    "X_train, X_test, y_train, y_test = train_test_split(X, y, test_size = 0.33, random_state = 42)"
   ]
  },
  {
   "cell_type": "code",
   "execution_count": 41,
   "metadata": {},
   "outputs": [],
   "source": [
    "from sklearn.preprocessing import StandardScaler\n",
    "scaler = StandardScaler()\n",
    "X_train = scaler.fit_transform(X_train)\n",
    "X_test = scaler.transform(X_test)"
   ]
  },
  {
   "cell_type": "code",
   "execution_count": 42,
   "metadata": {},
   "outputs": [
    {
     "data": {
      "text/html": [
       "<style>#sk-container-id-3 {color: black;background-color: white;}#sk-container-id-3 pre{padding: 0;}#sk-container-id-3 div.sk-toggleable {background-color: white;}#sk-container-id-3 label.sk-toggleable__label {cursor: pointer;display: block;width: 100%;margin-bottom: 0;padding: 0.3em;box-sizing: border-box;text-align: center;}#sk-container-id-3 label.sk-toggleable__label-arrow:before {content: \"▸\";float: left;margin-right: 0.25em;color: #696969;}#sk-container-id-3 label.sk-toggleable__label-arrow:hover:before {color: black;}#sk-container-id-3 div.sk-estimator:hover label.sk-toggleable__label-arrow:before {color: black;}#sk-container-id-3 div.sk-toggleable__content {max-height: 0;max-width: 0;overflow: hidden;text-align: left;background-color: #f0f8ff;}#sk-container-id-3 div.sk-toggleable__content pre {margin: 0.2em;color: black;border-radius: 0.25em;background-color: #f0f8ff;}#sk-container-id-3 input.sk-toggleable__control:checked~div.sk-toggleable__content {max-height: 200px;max-width: 100%;overflow: auto;}#sk-container-id-3 input.sk-toggleable__control:checked~label.sk-toggleable__label-arrow:before {content: \"▾\";}#sk-container-id-3 div.sk-estimator input.sk-toggleable__control:checked~label.sk-toggleable__label {background-color: #d4ebff;}#sk-container-id-3 div.sk-label input.sk-toggleable__control:checked~label.sk-toggleable__label {background-color: #d4ebff;}#sk-container-id-3 input.sk-hidden--visually {border: 0;clip: rect(1px 1px 1px 1px);clip: rect(1px, 1px, 1px, 1px);height: 1px;margin: -1px;overflow: hidden;padding: 0;position: absolute;width: 1px;}#sk-container-id-3 div.sk-estimator {font-family: monospace;background-color: #f0f8ff;border: 1px dotted black;border-radius: 0.25em;box-sizing: border-box;margin-bottom: 0.5em;}#sk-container-id-3 div.sk-estimator:hover {background-color: #d4ebff;}#sk-container-id-3 div.sk-parallel-item::after {content: \"\";width: 100%;border-bottom: 1px solid gray;flex-grow: 1;}#sk-container-id-3 div.sk-label:hover label.sk-toggleable__label {background-color: #d4ebff;}#sk-container-id-3 div.sk-serial::before {content: \"\";position: absolute;border-left: 1px solid gray;box-sizing: border-box;top: 0;bottom: 0;left: 50%;z-index: 0;}#sk-container-id-3 div.sk-serial {display: flex;flex-direction: column;align-items: center;background-color: white;padding-right: 0.2em;padding-left: 0.2em;position: relative;}#sk-container-id-3 div.sk-item {position: relative;z-index: 1;}#sk-container-id-3 div.sk-parallel {display: flex;align-items: stretch;justify-content: center;background-color: white;position: relative;}#sk-container-id-3 div.sk-item::before, #sk-container-id-3 div.sk-parallel-item::before {content: \"\";position: absolute;border-left: 1px solid gray;box-sizing: border-box;top: 0;bottom: 0;left: 50%;z-index: -1;}#sk-container-id-3 div.sk-parallel-item {display: flex;flex-direction: column;z-index: 1;position: relative;background-color: white;}#sk-container-id-3 div.sk-parallel-item:first-child::after {align-self: flex-end;width: 50%;}#sk-container-id-3 div.sk-parallel-item:last-child::after {align-self: flex-start;width: 50%;}#sk-container-id-3 div.sk-parallel-item:only-child::after {width: 0;}#sk-container-id-3 div.sk-dashed-wrapped {border: 1px dashed gray;margin: 0 0.4em 0.5em 0.4em;box-sizing: border-box;padding-bottom: 0.4em;background-color: white;}#sk-container-id-3 div.sk-label label {font-family: monospace;font-weight: bold;display: inline-block;line-height: 1.2em;}#sk-container-id-3 div.sk-label-container {text-align: center;}#sk-container-id-3 div.sk-container {/* jupyter's `normalize.less` sets `[hidden] { display: none; }` but bootstrap.min.css set `[hidden] { display: none !important; }` so we also need the `!important` here to be able to override the default hidden behavior on the sphinx rendered scikit-learn.org. See: https://github.com/scikit-learn/scikit-learn/issues/21755 */display: inline-block !important;position: relative;}#sk-container-id-3 div.sk-text-repr-fallback {display: none;}</style><div id=\"sk-container-id-3\" class=\"sk-top-container\"><div class=\"sk-text-repr-fallback\"><pre>RandomForestClassifier(random_state=42)</pre><b>In a Jupyter environment, please rerun this cell to show the HTML representation or trust the notebook. <br />On GitHub, the HTML representation is unable to render, please try loading this page with nbviewer.org.</b></div><div class=\"sk-container\" hidden><div class=\"sk-item\"><div class=\"sk-estimator sk-toggleable\"><input class=\"sk-toggleable__control sk-hidden--visually\" id=\"sk-estimator-id-3\" type=\"checkbox\" checked><label for=\"sk-estimator-id-3\" class=\"sk-toggleable__label sk-toggleable__label-arrow\">RandomForestClassifier</label><div class=\"sk-toggleable__content\"><pre>RandomForestClassifier(random_state=42)</pre></div></div></div></div></div>"
      ],
      "text/plain": [
       "RandomForestClassifier(random_state=42)"
      ]
     },
     "execution_count": 42,
     "metadata": {},
     "output_type": "execute_result"
    }
   ],
   "source": [
    "#import RandomForestClassifier\n",
    "from sklearn.ensemble import RandomForestClassifier\n",
    "clf = RandomForestClassifier(n_estimators=100, random_state = 42)\n",
    "clf.fit(X_train, y_train)"
   ]
  },
  {
   "cell_type": "code",
   "execution_count": 43,
   "metadata": {},
   "outputs": [
    {
     "data": {
      "text/plain": [
       "crs_arr_time                                0.216104\n",
       "dest_day_week_avg_arr_delay                 0.150934\n",
       "fl_date_day_of_month                        0.147316\n",
       "origin_day_week_avg_dep_delay               0.145489\n",
       "origin_city_avg_dep_delay                   0.114639\n",
       "dest_city_avg_arr_delay                     0.113280\n",
       "op_unique_carrier_day_week_avg_arr_delay    0.112238\n",
       "dtype: float64"
      ]
     },
     "execution_count": 43,
     "metadata": {},
     "output_type": "execute_result"
    }
   ],
   "source": [
    "feature_imp = pd.Series(clf.feature_importances_, index=X.columns).sort_values(ascending=False)\n",
    "feature_imp"
   ]
  },
  {
   "attachments": {},
   "cell_type": "markdown",
   "metadata": {},
   "source": [
    "`The most important feature is destination, average weekly arrival delay, origin averaage daily depature delay. All features seem to contribute almost equally`"
   ]
  },
  {
   "cell_type": "code",
   "execution_count": 44,
   "metadata": {},
   "outputs": [
    {
     "data": {
      "text/html": [
       "\n",
       "            <div id=\"3qb6sT\"></div>\n",
       "            <script type=\"text/javascript\" data-lets-plot-script=\"library\">\n",
       "                if(!window.letsPlotCallQueue) {\n",
       "                    window.letsPlotCallQueue = [];\n",
       "                }; \n",
       "                window.letsPlotCall = function(f) {\n",
       "                    window.letsPlotCallQueue.push(f);\n",
       "                };\n",
       "                (function() {\n",
       "                    var script = document.createElement(\"script\");\n",
       "                    script.type = \"text/javascript\";\n",
       "                    script.src = \"https://cdn.jsdelivr.net/gh/JetBrains/lets-plot@v3.2.0/js-package/distr/lets-plot.min.js\";\n",
       "                    script.onload = function() {\n",
       "                        window.letsPlotCall = function(f) {f();};\n",
       "                        window.letsPlotCallQueue.forEach(function(f) {f();});\n",
       "                        window.letsPlotCallQueue = [];\n",
       "                        \n",
       "                    };\n",
       "                    script.onerror = function(event) {\n",
       "                        window.letsPlotCall = function(f) {};    // noop\n",
       "                        window.letsPlotCallQueue = [];\n",
       "                        var div = document.createElement(\"div\");\n",
       "                        div.style.color = 'darkred';\n",
       "                        div.textContent = 'Error loading Lets-Plot JS';\n",
       "                        document.getElementById(\"3qb6sT\").appendChild(div);\n",
       "                    };\n",
       "                    var e = document.getElementById(\"3qb6sT\");\n",
       "                    e.appendChild(script);\n",
       "                })()\n",
       "            </script>\n",
       "            "
      ]
     },
     "metadata": {},
     "output_type": "display_data"
    }
   ],
   "source": [
    "from lets_plot import *\n",
    "LetsPlot.setup_html()"
   ]
  },
  {
   "cell_type": "code",
   "execution_count": 45,
   "metadata": {},
   "outputs": [
    {
     "data": {
      "text/html": [
       "   <div id=\"o08Xgu\"></div>\n",
       "   <script type=\"text/javascript\" data-lets-plot-script=\"plot\">\n",
       "       (function() {\n",
       "           var plotSpec={\n",
       "\"data\":{\n",
       "\"x\":[\"crs_arr_time\",\"dest_day_week_avg_arr_delay\",\"fl_date_day_of_month\",\"origin_day_week_avg_dep_delay\",\"origin_city_avg_dep_delay\",\"dest_city_avg_arr_delay\",\"op_unique_carrier_day_week_avg_arr_delay\"],\n",
       "\"y\":[0.21610401674470645,0.1509339323951005,0.147315935169061,0.1454888775617585,0.11463927245752027,0.11328031250990225,0.11223765316195118]\n",
       "},\n",
       "\"mapping\":{\n",
       "\"x\":\"x\",\n",
       "\"y\":\"y\"\n",
       "},\n",
       "\"data_meta\":{\n",
       "},\n",
       "\"ggsize\":{\n",
       "\"width\":500.0,\n",
       "\"height\":300.0\n",
       "},\n",
       "\"ggtitle\":{\n",
       "\"text\":\"Feature Importance\"\n",
       "},\n",
       "\"theme\":{\n",
       "\"axis_text_x\":{\n",
       "\"angle\":90.0,\n",
       "\"hjust\":1.0,\n",
       "\"blank\":false\n",
       "}\n",
       "},\n",
       "\"kind\":\"plot\",\n",
       "\"scales\":[{\n",
       "\"name\":\"Features\",\n",
       "\"aesthetic\":\"x\"\n",
       "},{\n",
       "\"name\":\"Importance\",\n",
       "\"aesthetic\":\"y\"\n",
       "}],\n",
       "\"layers\":[{\n",
       "\"geom\":\"bar\",\n",
       "\"stat\":\"identity\",\n",
       "\"mapping\":{\n",
       "},\n",
       "\"data_meta\":{\n",
       "},\n",
       "\"fill\":\"#f68060\",\n",
       "\"alpha\":0.8,\n",
       "\"data\":{\n",
       "}\n",
       "}],\n",
       "\"metainfo_list\":[]\n",
       "};\n",
       "           var plotContainer = document.getElementById(\"o08Xgu\");\n",
       "           window.letsPlotCall(function() {{\n",
       "               LetsPlot.buildPlotFromProcessedSpecs(plotSpec, -1, -1, plotContainer);\n",
       "           }});\n",
       "       })();    \n",
       "   </script>"
      ],
      "text/plain": [
       "<lets_plot.plot.core.PlotSpec at 0x7fd910a40340>"
      ]
     },
     "execution_count": 45,
     "metadata": {},
     "output_type": "execute_result"
    }
   ],
   "source": [
    "# plot feature importance using lets-plot\n",
    "y = feature_imp\n",
    "x = feature_imp.index.tolist()\n",
    "ggplot({'x': x, 'y': y}, aes(x='x', y='y')) + geom_bar(stat='identity', fill='#f68060', alpha=0.8) + \\\n",
    "    ggsize(500, 300) + \\\n",
    "    ggtitle('Feature Importance') + \\\n",
    "    xlab('Features') + \\\n",
    "    ylab('Importance') + \\\n",
    "    theme(axis_text_x=element_text(angle=90, hjust=1))\n"
   ]
  },
  {
   "cell_type": "code",
   "execution_count": 46,
   "metadata": {},
   "outputs": [
    {
     "data": {
      "text/plain": [
       "crs_arr_time                                0.216104\n",
       "dest_day_week_avg_arr_delay                 0.150934\n",
       "fl_date_day_of_month                        0.147316\n",
       "origin_day_week_avg_dep_delay               0.145489\n",
       "origin_city_avg_dep_delay                   0.114639\n",
       "dest_city_avg_arr_delay                     0.113280\n",
       "op_unique_carrier_day_week_avg_arr_delay    0.112238\n",
       "dtype: float64"
      ]
     },
     "execution_count": 46,
     "metadata": {},
     "output_type": "execute_result"
    }
   ],
   "source": [
    "y"
   ]
  },
  {
   "cell_type": "code",
   "execution_count": null,
   "metadata": {},
   "outputs": [],
   "source": []
  }
 ],
 "metadata": {
  "kernelspec": {
   "display_name": "Python_3_9",
   "language": "python",
   "name": "python3"
  },
  "language_info": {
   "codemirror_mode": {
    "name": "ipython",
    "version": 3
   },
   "file_extension": ".py",
   "mimetype": "text/x-python",
   "name": "python",
   "nbconvert_exporter": "python",
   "pygments_lexer": "ipython3",
   "version": "3.9.16"
  },
  "orig_nbformat": 4
 },
 "nbformat": 4,
 "nbformat_minor": 2
}
